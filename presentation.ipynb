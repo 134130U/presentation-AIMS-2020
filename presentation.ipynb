{
 "cells": [
  {
   "cell_type": "code",
   "execution_count": 1,
   "metadata": {
    "slideshow": {
     "slide_type": "-"
    }
   },
   "outputs": [],
   "source": [
    "import numpy as np\n",
    "import matplotlib.pyplot as plt\n",
    "import matplotlib.colors as colors\n",
    "%matplotlib notebook"
   ]
  },
  {
   "cell_type": "markdown",
   "metadata": {
    "slideshow": {
     "slide_type": "slide"
    }
   },
   "source": [
    "# NumPy: A look at the past, present, and future of array computation\n",
    "\n",
    "Ross Barnowski `rossbar@berkeley.edu` | [rossbar](https://github.com/rossbar) on GitHub\n",
    "\n",
    "University of Michigan EECS | 1/30/2020"
   ]
  },
  {
   "cell_type": "markdown",
   "metadata": {
    "slideshow": {
     "slide_type": "slide"
    }
   },
   "source": [
    "# What is NumPy?\n",
    "\n",
    "> *NumPy is the fundamental package for scientific computing with Python*\n",
    "> \n",
    ">  [numpy.org](https://numpy.org/)\n",
    "\n",
    "Strong stuff."
   ]
  },
  {
   "cell_type": "markdown",
   "metadata": {
    "slideshow": {
     "slide_type": "subslide"
    }
   },
   "source": [
    "## The scientific Python ecosystem\n",
    "\n",
    "![scientific_python_ecosystem](images/state_of_the_stack_2015.png)\n",
    "\n",
    "Image credit: [Jake VanderPlas](http://vanderplas.com/) circa 2015"
   ]
  },
  {
   "cell_type": "code",
   "execution_count": null,
   "metadata": {
    "slideshow": {
     "slide_type": "skip"
    }
   },
   "outputs": [],
   "source": [
    "# Code example: github graphql query for top starred projects with numpy as a dependency"
   ]
  },
  {
   "cell_type": "markdown",
   "metadata": {
    "slideshow": {
     "slide_type": "slide"
    }
   },
   "source": [
    "# At a glance\n",
    "\n",
    "![numpy_overview](images/numpy_overview_graphic.png)\n",
    "\n",
    "Image credit: [Shaloo Shalini](https://www.linkedin.com/in/shalooshalini/): [@shaloo](https://github.com/shaloo) on GitHub"
   ]
  },
  {
   "cell_type": "markdown",
   "metadata": {
    "slideshow": {
     "slide_type": "slide"
    }
   },
   "source": [
    "# A bit of history\n",
    "\n",
    " - **Mid 90's/Early 00's**: desire for high-performance numerical computation in python eventually culminates in the [`Numeric`](https://numpy.org/_downloads/768fa66c250a0335ad3a6a30fae48e34/numeric-manual.pdf) library\n",
    " - Early adopters included the [Space Telescope Science Institute (STScI)](http://www.stsci.edu/) who developed another array computation package to better suit their needs: `Numarray`.\n",
    " - **2005** The best ideas from `Numeric` and `Numarray` were combined in the development of a new library, `numpy`\n",
    "   * This work was largely done by [Travis Oliphant](https://github.com/teoliphant), then an assistant professor at BYU\n",
    " - **2006** Numpy v1.0 released in October\n",
    " \n",
    "[NumPy Development History](https://github.com/numpy/numpy/graphs/contributors)"
   ]
  },
  {
   "cell_type": "markdown",
   "metadata": {
    "slideshow": {
     "slide_type": "slide"
    }
   },
   "source": [
    "# What does NumPy provide?\n",
    "\n",
    " - `ndarray`: A generic, n-dimensional array data structure\n",
    " - Sophisticated machinery for operating on array data\n",
    "   * Powerful indexing, vectorization, broadcasting, built-in element-wise operations (`ufuncs`)\n",
    "   * All features exposed by a concise, expressive syntax\n",
    " - Language extension/integration (C-API, `f2py`)\n",
    "   * [Array API](https://docs.scipy.org/doc/numpy/reference/c-api.array.html) for accessing/extending array functionality in external libraries"
   ]
  },
  {
   "cell_type": "markdown",
   "metadata": {
    "slideshow": {
     "slide_type": "subslide"
    }
   },
   "source": [
    "## What else?\n",
    "\n",
    "For historical reasons, `numpy` also includes tools for common scientific/numerical tasks:\n",
    "   * Random number generation (`np.random`)\n",
    "   * Fourier analysis (`np.fft`)\n",
    "   * Linear algebra (`np.linalg`)"
   ]
  },
  {
   "cell_type": "markdown",
   "metadata": {
    "slideshow": {
     "slide_type": "subslide"
    }
   },
   "source": [
    "### The `scipy` package includes modules with the same name? What's the deal?"
   ]
  },
  {
   "cell_type": "code",
   "execution_count": null,
   "metadata": {
    "slideshow": {
     "slide_type": "fragment"
    }
   },
   "outputs": [],
   "source": [
    "import scipy, scipy.linalg"
   ]
  },
  {
   "cell_type": "code",
   "execution_count": null,
   "metadata": {
    "slideshow": {
     "slide_type": "fragment"
    }
   },
   "outputs": [],
   "source": [
    "print(scipy.random)\n",
    "scipy.random is np.random "
   ]
  },
  {
   "cell_type": "code",
   "execution_count": null,
   "metadata": {
    "slideshow": {
     "slide_type": "fragment"
    }
   },
   "outputs": [],
   "source": [
    "print(scipy.fft)\n",
    "scipy.fft is np.fft"
   ]
  },
  {
   "cell_type": "code",
   "execution_count": null,
   "metadata": {
    "slideshow": {
     "slide_type": "fragment"
    }
   },
   "outputs": [],
   "source": [
    "print(scipy.linalg)\n",
    "scipy.linalg is np.linalg"
   ]
  },
  {
   "cell_type": "markdown",
   "metadata": {
    "slideshow": {
     "slide_type": "subslide"
    }
   },
   "source": [
    "<font color=\"red\">Check with team</font>\n",
    "\n",
    "NumPy will continue to *support* the `fft` and `linalg` modules, but the scipy versions should probably be preferred for new code:\n",
    " - Optimizations/enhancements\n",
    " - More capabilities: e.g. see [this quick comparison](https://numpy.org/devdocs/reference/routines.linalg.html) of the `numpy` and `scipy` `linalg` modules."
   ]
  },
  {
   "cell_type": "markdown",
   "metadata": {
    "slideshow": {
     "slide_type": "slide"
    }
   },
   "source": [
    "# Where is NumPy used?\n",
    "\n",
    "### <font color=red> Investigate the following for appropriately sized examples </font>\n",
    "\n",
    " - To produce the first image of a black hole \n",
    "   [Event Horizon Telescope Collaboration](https://github.com/achael/eht-imaging)\n",
    " - [To detect the gravitational wave signature from a neutron star merger](https://github.com/gwastro/pycbc)\n",
    " - [To discover fundamental particles like the Higgs Boson](https://github.com/cms-sw/cmssw)\n",
    "   * Also [scikit-hep](https://scikit-hep.org/)\n",
    " - [Neuroimaging](https://nipy.org/nibabel/) - nipy uses `ndarray` as the fundamental structure for the entire stack\n",
    "   * fMRI visualization example from [section 3.4](https://www.frontiersin.org/articles/10.3389/fninf.2014.00014/full#h4)\n",
    "     is a nice, brief example"
   ]
  },
  {
   "cell_type": "markdown",
   "metadata": {
    "slideshow": {
     "slide_type": "slide"
    }
   },
   "source": [
    "## Neuroimaging Analysis\n",
    "\n",
    "Like much of the scientific python ecosystem, [nipy](https://nipy.org/) relies on `np.ndarray` as the fundamental structure for neuroimaging data.\n",
    "\n",
    "The following example is adapted from [Machine learning for neuroimaging with scikit learn](https://www.frontiersin.org/articles/10.3389/fninf.2014.00014/full). The dataset used comes from the [nilearn data](https://www.nitrc.org/frs/?group_id=728).\n",
    "\n",
    "<font color=red>**Add example of loading full Nifti image to show 4D structure of data?**</font>"
   ]
  },
  {
   "cell_type": "code",
   "execution_count": null,
   "metadata": {
    "slideshow": {
     "slide_type": "subslide"
    }
   },
   "outputs": [],
   "source": [
    "import nibabel   # package for loading/saving neuroimaging data\n",
    "bg_img = nibabel.load('data/bg.nii.gz')\n",
    "bg = bg_img.get_fdata()\n",
    "type(bg)"
   ]
  },
  {
   "cell_type": "code",
   "execution_count": null,
   "metadata": {
    "slideshow": {
     "slide_type": "fragment"
    }
   },
   "outputs": [],
   "source": [
    "# Create activation map by thresholding the data\n",
    "act_thresh = 6000\n",
    "act = bg.copy()\n",
    "# Set \"unactivated\" voxels to NaN for visualization\n",
    "act[act <= act_thresh] = np.nan"
   ]
  },
  {
   "cell_type": "code",
   "execution_count": null,
   "metadata": {
    "slideshow": {
     "slide_type": "subslide"
    }
   },
   "outputs": [],
   "source": [
    "# imshow kwargs\n",
    "imshow_opts = {\n",
    "    \"origin\" : \"lower\",\n",
    "    \"interpolation\" : \"nearest\"\n",
    "}\n",
    "\n",
    "# Axial slice of activation map overlay\n",
    "plt.imshow(bg[...,10].T, cmap=\"gray\");             # Background\n",
    "plt.imshow(act[...,10].T, cmap=\"plasma\");          # Activation map\n",
    "plt.axis('off');"
   ]
  },
  {
   "cell_type": "markdown",
   "metadata": {
    "slideshow": {
     "slide_type": "slide"
    }
   },
   "source": [
    "## Detecting gravitational wave signature of black hole and neutron star mergers\n",
    "\n",
    "[PyCBC](https://pycbc.org/) is the toolkit used to analyze data from gravitational wave observatories like [LIGO](https://www.ligo.caltech.edu/) and [Virgo](http://www.virgo-gw.eu/).\n",
    "\n",
    "The [PyCBC tutorials](https://github.com/gwastro/PyCBC-Tutorials) have some really cool examples - let's recreate the \"chirp\" from [first ever direct detection of gravitational waves](https://en.wikipedia.org/wiki/First_observation_of_gravitational_waves) that resulted from two black holes merging. For more info, see [the second PyCBC tutorial](https://colab.research.google.com/github/gwastro/pycbc-tutorials/blob/master/tutorial/2_VisualizationSignalProcessing.ipynb)."
   ]
  },
  {
   "cell_type": "code",
   "execution_count": null,
   "metadata": {
    "slideshow": {
     "slide_type": "slide"
    }
   },
   "outputs": [],
   "source": [
    "import pycbc\n",
    "from pycbc import catalog\n",
    "\n",
    "merger_data = catalog.Merger('GW150914')\n",
    "# Though the catalog includes data from multiple observatories,\n",
    "# let's focus on just one\n",
    "ligo_data = merger_data.strain('L1')\n",
    "type(ligo_data)"
   ]
  },
  {
   "cell_type": "markdown",
   "metadata": {
    "slideshow": {
     "slide_type": "fragment"
    }
   },
   "source": [
    "`pycbc` has its own (quite extensive) API that uses `numpy` and `scipy` under the hood"
   ]
  },
  {
   "cell_type": "code",
   "execution_count": null,
   "metadata": {
    "slideshow": {
     "slide_type": "fragment"
    }
   },
   "outputs": [],
   "source": [
    "print(type(ligo_data._data))"
   ]
  },
  {
   "cell_type": "code",
   "execution_count": null,
   "metadata": {
    "slideshow": {
     "slide_type": "fragment"
    }
   },
   "outputs": [],
   "source": [
    "pycbc.types.aligned.ArrayWithAligned.__bases__"
   ]
  },
  {
   "cell_type": "markdown",
   "metadata": {
    "slideshow": {
     "slide_type": "slide"
    }
   },
   "source": [
    "To re-create the \"chirp\" we have to do some analysis on the raw data. \n",
    "\n",
    "Let's start by applying a simple band-pass filter. This is simpler than the analysis method [used in the official pycbc tutorial](https://colab.research.google.com/github/gwastro/pycbc-tutorials/blob/master/tutorial/2_VisualizationSignalProcessing.ipynb), but works suprisingly well!"
   ]
  },
  {
   "cell_type": "code",
   "execution_count": null,
   "metadata": {
    "slideshow": {
     "slide_type": "fragment"
    }
   },
   "outputs": [],
   "source": [
    "# Apply a bandpass filter to the data\n",
    "res = ligo_data.highpass_fir(20, 512).lowpass_fir(350, 512)"
   ]
  },
  {
   "cell_type": "markdown",
   "metadata": {
    "slideshow": {
     "slide_type": "subslide"
    }
   },
   "source": [
    "`pycbc` relies on tools in `scipy.signal` to conduct the frequency analysis."
   ]
  },
  {
   "cell_type": "code",
   "execution_count": null,
   "metadata": {
    "slideshow": {
     "slide_type": "fragment"
    }
   },
   "outputs": [],
   "source": [
    "pycbc.filter.lowpass_fir??"
   ]
  },
  {
   "cell_type": "code",
   "execution_count": null,
   "metadata": {
    "slideshow": {
     "slide_type": "fragment"
    }
   },
   "outputs": [],
   "source": [
    "pycbc.filter.fir_zero_filter??"
   ]
  },
  {
   "cell_type": "code",
   "execution_count": null,
   "metadata": {
    "slideshow": {
     "slide_type": "fragment"
    }
   },
   "outputs": [],
   "source": [
    "from scipy.signal import lfilter\n",
    "lfilter?"
   ]
  },
  {
   "cell_type": "markdown",
   "metadata": {
    "slideshow": {
     "slide_type": "slide"
    }
   },
   "source": [
    "Let's take a look at the results of our filter analysis..."
   ]
  },
  {
   "cell_type": "code",
   "execution_count": null,
   "metadata": {
    "slideshow": {
     "slide_type": "fragment"
    }
   },
   "outputs": [],
   "source": [
    "time_of_merger = merger_data.time\n",
    "\n",
    "# Look 500 msec-worth of data around the merger time\n",
    "roi = res.time_slice(time_of_merger - 0.25, time_of_merger + 0.25)\n",
    "\n",
    "# Similar to a spectrogram with more sophisticated, irregular sampling\n",
    "times, freqs, power = roi.qtransform(\n",
    "    delta_t=0.001,\n",
    "    logfsteps=100,\n",
    "    qrange=(8, 8),\n",
    "    frange=(30, 512),\n",
    ")"
   ]
  },
  {
   "cell_type": "code",
   "execution_count": null,
   "metadata": {
    "slideshow": {
     "slide_type": "slide"
    }
   },
   "outputs": [],
   "source": [
    "fig, ax = plt.subplots(figsize=(6,3))\n",
    "ax.pcolormesh(times, freqs, power**0.5)\n",
    "ax.set_yscale('log')"
   ]
  },
  {
   "cell_type": "markdown",
   "metadata": {
    "slideshow": {
     "slide_type": "slide"
    }
   },
   "source": [
    "# Generating the first ever direct image of a black hole\n",
    "\n",
    "On April 10th 2019, the [Event Horizon Telescope](https://eventhorizontelescope.org/) collaboration released the [first ever image of a black hole](https://eventhorizontelescope.org/press-release-april-10-2019-astronomers-capture-first-image-black-hole):\n",
    "\n",
    "![EHT_M87_image](https://static.projects.iq.harvard.edu/files/styles/os_files_xlarge/public/eht/files/20190410-78m-800x466.png?m=1554877319&itok=ryK319ed)\n",
    "\n",
    "Image source: The [official blog post](https://eventhorizontelescope.org/press-release-april-10-2019-astronomers-capture-first-image-black-hole) from the EHT collaboration announcing the result"
   ]
  },
  {
   "cell_type": "markdown",
   "metadata": {
    "slideshow": {
     "slide_type": "subslide"
    }
   },
   "source": [
    "The data structure and imaging pipeline are *way* too complicated to cover in a few slides. \n",
    "\n",
    "Instead, we'll just take advantage of the fact that the imaging pipeline is built on the tools of the scientific python ecosystem:\n",
    "\n",
    "![shaloo_image_dependency_graphic](images/ehtim_dependency_graphic.png)\n",
    "\n",
    "Image credit: [Shaloo Shalini (@shaloo)](https://github.com/shaloo). For info on how this graphic was created, check out [shaloo's script](https://github.com/numpy/numpy.org/pull/23)."
   ]
  },
  {
   "cell_type": "markdown",
   "metadata": {},
   "source": [
    "Let's run [the eht imaging pipeline](https://github.com/eventhorizontelescope/2019-D01-02) provided by the Event Horizons collaborators to help produce images from their [calibrated data](https://github.com/eventhorizontelescope/2019-D01-01). \n",
    "\n",
    "These repos with the helper-script for running the pipeline and the calibrated data have been included as submodules in `event_horizon_example/`."
   ]
  },
  {
   "cell_type": "code",
   "execution_count": 10,
   "metadata": {},
   "outputs": [
    {
     "name": "stdout",
     "output_type": "stream",
     "text": [
      "Loading uvfits:  event_horizons_example/2019-D01-01/uvfits/SR1_M87_2017_101_lo_hops_netcal_StokesI.uvfits\n",
      "no IF in uvfits header!\n",
      "POLREP_UVFITS: circ\n",
      "Number of uvfits Correlation Products: 4\n",
      "No NX table in uvfits!\n",
      "Self-calibrating the LMT to a Gaussian model for LMT-SMT...\n",
      "U-V flagged 174/216 visibilities\n",
      "Computing the Model Visibilities with nfft Fourier Transform...\n",
      "Producing clean visibilities from image with nfft FT . . . \n",
      "Not Using Multiprocessing\n",
      "Scan 20/21 : [----------------------------  ]95%"
     ]
    },
    {
     "name": "stderr",
     "output_type": "stream",
     "text": [
      "/home/ross/repos/eht-imaging/ehtim/statistics/dataframes.py:182: RuntimeWarning: invalid value encountered in double_scalars\n",
      "  try: ret = np.sqrt(np.sum(x**2)/len(x)**2)\n"
     ]
    },
    {
     "name": "stdout",
     "output_type": "stream",
     "text": [
      "\n",
      "self_cal time: 0.089412 s\n",
      "No Calibration  Data for PV !\n",
      "Round 1: Imaging with visibility amplitudes and closure quantities...\n",
      "Initializing imager data products . . .\n",
      "U-V flagged 27/216 visibilities\n",
      "U-V flagged 189/216 visibilities\n",
      "Getting bispectra:: type vis, count min, scan 22/22 \n",
      "\n",
      "Getting closure amps:: type vis logcamp , count min, scan 22/22\n",
      "\n",
      "==============================\n",
      "Imager run 1 \n",
      "time: 0.737725 s\n",
      "J: 26.884993\n",
      "chi2_amp : 20.33 chi2_cphase : 1.92 chi2_logcamp : 2.56 \n",
      "STOP: TOTAL NO. of ITERATIONS REACHED LIMIT\n",
      "==============================\n",
      "==============================\n",
      "Imager run 2 \n",
      "time: 0.722053 s\n",
      "J: 26.062108\n",
      "chi2_amp : 19.55 chi2_cphase : 1.40 chi2_logcamp : 2.50 \n",
      "STOP: TOTAL NO. of ITERATIONS REACHED LIMIT\n",
      "==============================\n",
      "==============================\n",
      "Imager run 3 \n",
      "time: 0.808153 s\n",
      "J: 26.109543\n",
      "chi2_amp : 19.37 chi2_cphase : 1.38 chi2_logcamp : 2.50 \n",
      "STOP: TOTAL NO. of ITERATIONS REACHED LIMIT\n",
      "==============================\n",
      "==============================\n",
      "Imager run 4 \n",
      "time: 0.832590 s\n",
      "J: 26.116181\n",
      "chi2_amp : 19.43 chi2_cphase : 1.39 chi2_logcamp : 2.50 \n",
      "STOP: TOTAL NO. of ITERATIONS REACHED LIMIT\n",
      "==============================\n",
      "No stations specified in self cal: defaulting to calibrating all stations!\n",
      "Computing the Model Visibilities with nfft Fourier Transform...\n",
      "Producing clean visibilities from image with nfft FT . . . \n",
      "Not Using Multiprocessing\n",
      "Scan 21/22 : [----------------------------  ]95%\n",
      "self_cal time: 1.771667 s\n",
      "Round 2: Imaging with visibilities and closure quantities...\n",
      "Initializing imager data products . . .\n",
      "U-V flagged 27/216 visibilities\n",
      "U-V flagged 189/216 visibilities\n",
      "Getting bispectra:: type vis, count min, scan 22/22 \n",
      "\n",
      "Getting closure amps:: type vis logcamp , count min, scan 22/22\n",
      "\n",
      "==============================\n",
      "Imager run 1 \n",
      "time: 0.836270 s\n",
      "J: 33.225346\n",
      "chi2_cphase : 0.71 chi2_logcamp : 0.82 chi2_vis : 3.29 \n",
      "STOP: TOTAL NO. of ITERATIONS REACHED LIMIT\n",
      "==============================\n",
      "==============================\n",
      "Imager run 2 \n",
      "time: 0.799905 s\n",
      "J: 33.007454\n",
      "chi2_cphase : 0.71 chi2_logcamp : 0.83 chi2_vis : 3.33 \n",
      "STOP: TOTAL NO. of ITERATIONS REACHED LIMIT\n",
      "==============================\n",
      "==============================\n",
      "Imager run 3 \n",
      "time: 0.790028 s\n",
      "J: 33.214445\n",
      "chi2_cphase : 0.71 chi2_logcamp : 0.83 chi2_vis : 3.32 \n",
      "STOP: TOTAL NO. of ITERATIONS REACHED LIMIT\n",
      "==============================\n",
      "==============================\n",
      "Imager run 4 \n",
      "time: 0.754739 s\n",
      "J: 33.122742\n",
      "chi2_cphase : 0.71 chi2_logcamp : 0.83 chi2_vis : 3.34 \n",
      "STOP: TOTAL NO. of ITERATIONS REACHED LIMIT\n",
      "==============================\n",
      "No stations specified in self cal: defaulting to calibrating all stations!\n",
      "Computing the Model Visibilities with nfft Fourier Transform...\n",
      "Producing clean visibilities from image with nfft FT . . . \n",
      "Not Using Multiprocessing\n",
      "Scan 21/22 : [----------------------------  ]95%\n",
      "self_cal time: 1.972324 s\n",
      "Computing the Model Visibilities with nfft Fourier Transform...\n",
      "Producing clean visibilities from image with nfft FT . . . \n",
      "Not Using Multiprocessing\n",
      "Scan 21/22 : [----------------------------  ]95%\n",
      "self_cal time: 0.184025 s\n",
      "Rounds 3+4: Imaging with visibilities and closure quantities...\n",
      "Initializing imager data products . . .\n",
      "U-V flagged 27/216 visibilities\n",
      "U-V flagged 189/216 visibilities\n",
      "Getting bispectra:: type vis, count min, scan 22/22 \n",
      "\n",
      "Getting closure amps:: type vis logcamp , count min, scan 22/22\n",
      "\n",
      "==============================\n",
      "Imager run 1 \n",
      "time: 0.792132 s\n",
      "J: 40.115075\n",
      "chi2_cphase : 0.64 chi2_logcamp : 0.75 chi2_vis : 1.87 \n",
      "STOP: TOTAL NO. of ITERATIONS REACHED LIMIT\n",
      "==============================\n",
      "==============================\n",
      "Imager run 2 \n",
      "time: 0.767687 s\n",
      "J: 40.216493\n",
      "chi2_cphase : 0.63 chi2_logcamp : 0.76 chi2_vis : 1.87 \n",
      "STOP: TOTAL NO. of ITERATIONS REACHED LIMIT\n",
      "==============================\n",
      "==============================\n",
      "Imager run 3 \n",
      "time: 0.728130 s\n",
      "J: 40.423206\n",
      "chi2_cphase : 0.63 chi2_logcamp : 0.75 chi2_vis : 1.86 \n",
      "STOP: TOTAL NO. of ITERATIONS REACHED LIMIT\n",
      "==============================\n",
      "==============================\n",
      "Imager run 4 \n",
      "time: 0.744462 s\n",
      "J: 40.413105\n",
      "chi2_cphase : 0.64 chi2_logcamp : 0.75 chi2_vis : 1.86 \n",
      "STOP: TOTAL NO. of ITERATIONS REACHED LIMIT\n",
      "==============================\n",
      "Computing the Model Visibilities with nfft Fourier Transform...\n",
      "Producing clean visibilities from image with nfft FT . . . \n",
      "Not Using Multiprocessing\n",
      "Scan 21/22 : [----------------------------  ]95%\n",
      "self_cal time: 3.023412 s\n",
      "Initializing imager data products . . .\n",
      "U-V flagged 27/216 visibilities\n",
      "U-V flagged 189/216 visibilities\n",
      "Getting bispectra:: type vis, count min, scan 22/22 \n",
      "\n",
      "Getting closure amps:: type vis logcamp , count min, scan 22/22\n",
      "\n",
      "==============================\n",
      "Imager run 1 \n",
      "time: 0.856385 s\n",
      "J: 27.482572\n",
      "chi2_cphase : 0.62 chi2_logcamp : 0.67 chi2_vis : 0.90 \n",
      "STOP: TOTAL NO. of ITERATIONS REACHED LIMIT\n",
      "==============================\n",
      "==============================\n",
      "Imager run 2 \n",
      "time: 0.803573 s\n",
      "J: 27.476915\n",
      "chi2_cphase : 0.62 chi2_logcamp : 0.66 chi2_vis : 0.89 \n",
      "STOP: TOTAL NO. of ITERATIONS REACHED LIMIT\n",
      "==============================\n",
      "==============================\n",
      "Imager run 3 \n",
      "time: 0.812212 s\n",
      "J: 27.538258\n",
      "chi2_cphase : 0.62 chi2_logcamp : 0.66 chi2_vis : 0.88 \n",
      "STOP: TOTAL NO. of ITERATIONS REACHED LIMIT\n",
      "==============================\n",
      "==============================\n",
      "Imager run 4 \n",
      "time: 0.777748 s\n",
      "J: 27.067000\n",
      "chi2_cphase : 0.63 chi2_logcamp : 0.67 chi2_vis : 0.89 \n",
      "STOP: TOTAL NO. of ITERATIONS REACHED LIMIT\n",
      "==============================\n",
      "Computing the Model Visibilities with nfft Fourier Transform...\n",
      "Producing clean visibilities from image with nfft FT . . . \n",
      "Not Using Multiprocessing\n",
      "Scan 21/22 : [----------------------------  ]95%\n",
      "self_cal time: 3.351813 s\n"
     ]
    }
   ],
   "source": [
    "%run event_horizons_example/2019-D01-02/eht-imaging/eht-imaging_pipeline.py -i event_horizons_example/2019-D01-01/uvfits/SR1_M87_2017_101_lo_hops_netcal_StokesI.uvfits"
   ]
  },
  {
   "cell_type": "markdown",
   "metadata": {
    "slideshow": {
     "slide_type": "subslide"
    }
   },
   "source": [
    "See? ...It's complicated. Here's the result:"
   ]
  },
  {
   "cell_type": "code",
   "execution_count": 11,
   "metadata": {
    "slideshow": {
     "slide_type": "subslide"
    }
   },
   "outputs": [
    {
     "data": {
      "application/javascript": [
       "/* Put everything inside the global mpl namespace */\n",
       "window.mpl = {};\n",
       "\n",
       "\n",
       "mpl.get_websocket_type = function() {\n",
       "    if (typeof(WebSocket) !== 'undefined') {\n",
       "        return WebSocket;\n",
       "    } else if (typeof(MozWebSocket) !== 'undefined') {\n",
       "        return MozWebSocket;\n",
       "    } else {\n",
       "        alert('Your browser does not have WebSocket support. ' +\n",
       "              'Please try Chrome, Safari or Firefox ≥ 6. ' +\n",
       "              'Firefox 4 and 5 are also supported but you ' +\n",
       "              'have to enable WebSockets in about:config.');\n",
       "    };\n",
       "}\n",
       "\n",
       "mpl.figure = function(figure_id, websocket, ondownload, parent_element) {\n",
       "    this.id = figure_id;\n",
       "\n",
       "    this.ws = websocket;\n",
       "\n",
       "    this.supports_binary = (this.ws.binaryType != undefined);\n",
       "\n",
       "    if (!this.supports_binary) {\n",
       "        var warnings = document.getElementById(\"mpl-warnings\");\n",
       "        if (warnings) {\n",
       "            warnings.style.display = 'block';\n",
       "            warnings.textContent = (\n",
       "                \"This browser does not support binary websocket messages. \" +\n",
       "                    \"Performance may be slow.\");\n",
       "        }\n",
       "    }\n",
       "\n",
       "    this.imageObj = new Image();\n",
       "\n",
       "    this.context = undefined;\n",
       "    this.message = undefined;\n",
       "    this.canvas = undefined;\n",
       "    this.rubberband_canvas = undefined;\n",
       "    this.rubberband_context = undefined;\n",
       "    this.format_dropdown = undefined;\n",
       "\n",
       "    this.image_mode = 'full';\n",
       "\n",
       "    this.root = $('<div/>');\n",
       "    this._root_extra_style(this.root)\n",
       "    this.root.attr('style', 'display: inline-block');\n",
       "\n",
       "    $(parent_element).append(this.root);\n",
       "\n",
       "    this._init_header(this);\n",
       "    this._init_canvas(this);\n",
       "    this._init_toolbar(this);\n",
       "\n",
       "    var fig = this;\n",
       "\n",
       "    this.waiting = false;\n",
       "\n",
       "    this.ws.onopen =  function () {\n",
       "            fig.send_message(\"supports_binary\", {value: fig.supports_binary});\n",
       "            fig.send_message(\"send_image_mode\", {});\n",
       "            if (mpl.ratio != 1) {\n",
       "                fig.send_message(\"set_dpi_ratio\", {'dpi_ratio': mpl.ratio});\n",
       "            }\n",
       "            fig.send_message(\"refresh\", {});\n",
       "        }\n",
       "\n",
       "    this.imageObj.onload = function() {\n",
       "            if (fig.image_mode == 'full') {\n",
       "                // Full images could contain transparency (where diff images\n",
       "                // almost always do), so we need to clear the canvas so that\n",
       "                // there is no ghosting.\n",
       "                fig.context.clearRect(0, 0, fig.canvas.width, fig.canvas.height);\n",
       "            }\n",
       "            fig.context.drawImage(fig.imageObj, 0, 0);\n",
       "        };\n",
       "\n",
       "    this.imageObj.onunload = function() {\n",
       "        fig.ws.close();\n",
       "    }\n",
       "\n",
       "    this.ws.onmessage = this._make_on_message_function(this);\n",
       "\n",
       "    this.ondownload = ondownload;\n",
       "}\n",
       "\n",
       "mpl.figure.prototype._init_header = function() {\n",
       "    var titlebar = $(\n",
       "        '<div class=\"ui-dialog-titlebar ui-widget-header ui-corner-all ' +\n",
       "        'ui-helper-clearfix\"/>');\n",
       "    var titletext = $(\n",
       "        '<div class=\"ui-dialog-title\" style=\"width: 100%; ' +\n",
       "        'text-align: center; padding: 3px;\"/>');\n",
       "    titlebar.append(titletext)\n",
       "    this.root.append(titlebar);\n",
       "    this.header = titletext[0];\n",
       "}\n",
       "\n",
       "\n",
       "\n",
       "mpl.figure.prototype._canvas_extra_style = function(canvas_div) {\n",
       "\n",
       "}\n",
       "\n",
       "\n",
       "mpl.figure.prototype._root_extra_style = function(canvas_div) {\n",
       "\n",
       "}\n",
       "\n",
       "mpl.figure.prototype._init_canvas = function() {\n",
       "    var fig = this;\n",
       "\n",
       "    var canvas_div = $('<div/>');\n",
       "\n",
       "    canvas_div.attr('style', 'position: relative; clear: both; outline: 0');\n",
       "\n",
       "    function canvas_keyboard_event(event) {\n",
       "        return fig.key_event(event, event['data']);\n",
       "    }\n",
       "\n",
       "    canvas_div.keydown('key_press', canvas_keyboard_event);\n",
       "    canvas_div.keyup('key_release', canvas_keyboard_event);\n",
       "    this.canvas_div = canvas_div\n",
       "    this._canvas_extra_style(canvas_div)\n",
       "    this.root.append(canvas_div);\n",
       "\n",
       "    var canvas = $('<canvas/>');\n",
       "    canvas.addClass('mpl-canvas');\n",
       "    canvas.attr('style', \"left: 0; top: 0; z-index: 0; outline: 0\")\n",
       "\n",
       "    this.canvas = canvas[0];\n",
       "    this.context = canvas[0].getContext(\"2d\");\n",
       "\n",
       "    var backingStore = this.context.backingStorePixelRatio ||\n",
       "\tthis.context.webkitBackingStorePixelRatio ||\n",
       "\tthis.context.mozBackingStorePixelRatio ||\n",
       "\tthis.context.msBackingStorePixelRatio ||\n",
       "\tthis.context.oBackingStorePixelRatio ||\n",
       "\tthis.context.backingStorePixelRatio || 1;\n",
       "\n",
       "    mpl.ratio = (window.devicePixelRatio || 1) / backingStore;\n",
       "\n",
       "    var rubberband = $('<canvas/>');\n",
       "    rubberband.attr('style', \"position: absolute; left: 0; top: 0; z-index: 1;\")\n",
       "\n",
       "    var pass_mouse_events = true;\n",
       "\n",
       "    canvas_div.resizable({\n",
       "        start: function(event, ui) {\n",
       "            pass_mouse_events = false;\n",
       "        },\n",
       "        resize: function(event, ui) {\n",
       "            fig.request_resize(ui.size.width, ui.size.height);\n",
       "        },\n",
       "        stop: function(event, ui) {\n",
       "            pass_mouse_events = true;\n",
       "            fig.request_resize(ui.size.width, ui.size.height);\n",
       "        },\n",
       "    });\n",
       "\n",
       "    function mouse_event_fn(event) {\n",
       "        if (pass_mouse_events)\n",
       "            return fig.mouse_event(event, event['data']);\n",
       "    }\n",
       "\n",
       "    rubberband.mousedown('button_press', mouse_event_fn);\n",
       "    rubberband.mouseup('button_release', mouse_event_fn);\n",
       "    // Throttle sequential mouse events to 1 every 20ms.\n",
       "    rubberband.mousemove('motion_notify', mouse_event_fn);\n",
       "\n",
       "    rubberband.mouseenter('figure_enter', mouse_event_fn);\n",
       "    rubberband.mouseleave('figure_leave', mouse_event_fn);\n",
       "\n",
       "    canvas_div.on(\"wheel\", function (event) {\n",
       "        event = event.originalEvent;\n",
       "        event['data'] = 'scroll'\n",
       "        if (event.deltaY < 0) {\n",
       "            event.step = 1;\n",
       "        } else {\n",
       "            event.step = -1;\n",
       "        }\n",
       "        mouse_event_fn(event);\n",
       "    });\n",
       "\n",
       "    canvas_div.append(canvas);\n",
       "    canvas_div.append(rubberband);\n",
       "\n",
       "    this.rubberband = rubberband;\n",
       "    this.rubberband_canvas = rubberband[0];\n",
       "    this.rubberband_context = rubberband[0].getContext(\"2d\");\n",
       "    this.rubberband_context.strokeStyle = \"#000000\";\n",
       "\n",
       "    this._resize_canvas = function(width, height) {\n",
       "        // Keep the size of the canvas, canvas container, and rubber band\n",
       "        // canvas in synch.\n",
       "        canvas_div.css('width', width)\n",
       "        canvas_div.css('height', height)\n",
       "\n",
       "        canvas.attr('width', width * mpl.ratio);\n",
       "        canvas.attr('height', height * mpl.ratio);\n",
       "        canvas.attr('style', 'width: ' + width + 'px; height: ' + height + 'px;');\n",
       "\n",
       "        rubberband.attr('width', width);\n",
       "        rubberband.attr('height', height);\n",
       "    }\n",
       "\n",
       "    // Set the figure to an initial 600x600px, this will subsequently be updated\n",
       "    // upon first draw.\n",
       "    this._resize_canvas(600, 600);\n",
       "\n",
       "    // Disable right mouse context menu.\n",
       "    $(this.rubberband_canvas).bind(\"contextmenu\",function(e){\n",
       "        return false;\n",
       "    });\n",
       "\n",
       "    function set_focus () {\n",
       "        canvas.focus();\n",
       "        canvas_div.focus();\n",
       "    }\n",
       "\n",
       "    window.setTimeout(set_focus, 100);\n",
       "}\n",
       "\n",
       "mpl.figure.prototype._init_toolbar = function() {\n",
       "    var fig = this;\n",
       "\n",
       "    var nav_element = $('<div/>');\n",
       "    nav_element.attr('style', 'width: 100%');\n",
       "    this.root.append(nav_element);\n",
       "\n",
       "    // Define a callback function for later on.\n",
       "    function toolbar_event(event) {\n",
       "        return fig.toolbar_button_onclick(event['data']);\n",
       "    }\n",
       "    function toolbar_mouse_event(event) {\n",
       "        return fig.toolbar_button_onmouseover(event['data']);\n",
       "    }\n",
       "\n",
       "    for(var toolbar_ind in mpl.toolbar_items) {\n",
       "        var name = mpl.toolbar_items[toolbar_ind][0];\n",
       "        var tooltip = mpl.toolbar_items[toolbar_ind][1];\n",
       "        var image = mpl.toolbar_items[toolbar_ind][2];\n",
       "        var method_name = mpl.toolbar_items[toolbar_ind][3];\n",
       "\n",
       "        if (!name) {\n",
       "            // put a spacer in here.\n",
       "            continue;\n",
       "        }\n",
       "        var button = $('<button/>');\n",
       "        button.addClass('ui-button ui-widget ui-state-default ui-corner-all ' +\n",
       "                        'ui-button-icon-only');\n",
       "        button.attr('role', 'button');\n",
       "        button.attr('aria-disabled', 'false');\n",
       "        button.click(method_name, toolbar_event);\n",
       "        button.mouseover(tooltip, toolbar_mouse_event);\n",
       "\n",
       "        var icon_img = $('<span/>');\n",
       "        icon_img.addClass('ui-button-icon-primary ui-icon');\n",
       "        icon_img.addClass(image);\n",
       "        icon_img.addClass('ui-corner-all');\n",
       "\n",
       "        var tooltip_span = $('<span/>');\n",
       "        tooltip_span.addClass('ui-button-text');\n",
       "        tooltip_span.html(tooltip);\n",
       "\n",
       "        button.append(icon_img);\n",
       "        button.append(tooltip_span);\n",
       "\n",
       "        nav_element.append(button);\n",
       "    }\n",
       "\n",
       "    var fmt_picker_span = $('<span/>');\n",
       "\n",
       "    var fmt_picker = $('<select/>');\n",
       "    fmt_picker.addClass('mpl-toolbar-option ui-widget ui-widget-content');\n",
       "    fmt_picker_span.append(fmt_picker);\n",
       "    nav_element.append(fmt_picker_span);\n",
       "    this.format_dropdown = fmt_picker[0];\n",
       "\n",
       "    for (var ind in mpl.extensions) {\n",
       "        var fmt = mpl.extensions[ind];\n",
       "        var option = $(\n",
       "            '<option/>', {selected: fmt === mpl.default_extension}).html(fmt);\n",
       "        fmt_picker.append(option);\n",
       "    }\n",
       "\n",
       "    // Add hover states to the ui-buttons\n",
       "    $( \".ui-button\" ).hover(\n",
       "        function() { $(this).addClass(\"ui-state-hover\");},\n",
       "        function() { $(this).removeClass(\"ui-state-hover\");}\n",
       "    );\n",
       "\n",
       "    var status_bar = $('<span class=\"mpl-message\"/>');\n",
       "    nav_element.append(status_bar);\n",
       "    this.message = status_bar[0];\n",
       "}\n",
       "\n",
       "mpl.figure.prototype.request_resize = function(x_pixels, y_pixels) {\n",
       "    // Request matplotlib to resize the figure. Matplotlib will then trigger a resize in the client,\n",
       "    // which will in turn request a refresh of the image.\n",
       "    this.send_message('resize', {'width': x_pixels, 'height': y_pixels});\n",
       "}\n",
       "\n",
       "mpl.figure.prototype.send_message = function(type, properties) {\n",
       "    properties['type'] = type;\n",
       "    properties['figure_id'] = this.id;\n",
       "    this.ws.send(JSON.stringify(properties));\n",
       "}\n",
       "\n",
       "mpl.figure.prototype.send_draw_message = function() {\n",
       "    if (!this.waiting) {\n",
       "        this.waiting = true;\n",
       "        this.ws.send(JSON.stringify({type: \"draw\", figure_id: this.id}));\n",
       "    }\n",
       "}\n",
       "\n",
       "\n",
       "mpl.figure.prototype.handle_save = function(fig, msg) {\n",
       "    var format_dropdown = fig.format_dropdown;\n",
       "    var format = format_dropdown.options[format_dropdown.selectedIndex].value;\n",
       "    fig.ondownload(fig, format);\n",
       "}\n",
       "\n",
       "\n",
       "mpl.figure.prototype.handle_resize = function(fig, msg) {\n",
       "    var size = msg['size'];\n",
       "    if (size[0] != fig.canvas.width || size[1] != fig.canvas.height) {\n",
       "        fig._resize_canvas(size[0], size[1]);\n",
       "        fig.send_message(\"refresh\", {});\n",
       "    };\n",
       "}\n",
       "\n",
       "mpl.figure.prototype.handle_rubberband = function(fig, msg) {\n",
       "    var x0 = msg['x0'] / mpl.ratio;\n",
       "    var y0 = (fig.canvas.height - msg['y0']) / mpl.ratio;\n",
       "    var x1 = msg['x1'] / mpl.ratio;\n",
       "    var y1 = (fig.canvas.height - msg['y1']) / mpl.ratio;\n",
       "    x0 = Math.floor(x0) + 0.5;\n",
       "    y0 = Math.floor(y0) + 0.5;\n",
       "    x1 = Math.floor(x1) + 0.5;\n",
       "    y1 = Math.floor(y1) + 0.5;\n",
       "    var min_x = Math.min(x0, x1);\n",
       "    var min_y = Math.min(y0, y1);\n",
       "    var width = Math.abs(x1 - x0);\n",
       "    var height = Math.abs(y1 - y0);\n",
       "\n",
       "    fig.rubberband_context.clearRect(\n",
       "        0, 0, fig.canvas.width / mpl.ratio, fig.canvas.height / mpl.ratio);\n",
       "\n",
       "    fig.rubberband_context.strokeRect(min_x, min_y, width, height);\n",
       "}\n",
       "\n",
       "mpl.figure.prototype.handle_figure_label = function(fig, msg) {\n",
       "    // Updates the figure title.\n",
       "    fig.header.textContent = msg['label'];\n",
       "}\n",
       "\n",
       "mpl.figure.prototype.handle_cursor = function(fig, msg) {\n",
       "    var cursor = msg['cursor'];\n",
       "    switch(cursor)\n",
       "    {\n",
       "    case 0:\n",
       "        cursor = 'pointer';\n",
       "        break;\n",
       "    case 1:\n",
       "        cursor = 'default';\n",
       "        break;\n",
       "    case 2:\n",
       "        cursor = 'crosshair';\n",
       "        break;\n",
       "    case 3:\n",
       "        cursor = 'move';\n",
       "        break;\n",
       "    }\n",
       "    fig.rubberband_canvas.style.cursor = cursor;\n",
       "}\n",
       "\n",
       "mpl.figure.prototype.handle_message = function(fig, msg) {\n",
       "    fig.message.textContent = msg['message'];\n",
       "}\n",
       "\n",
       "mpl.figure.prototype.handle_draw = function(fig, msg) {\n",
       "    // Request the server to send over a new figure.\n",
       "    fig.send_draw_message();\n",
       "}\n",
       "\n",
       "mpl.figure.prototype.handle_image_mode = function(fig, msg) {\n",
       "    fig.image_mode = msg['mode'];\n",
       "}\n",
       "\n",
       "mpl.figure.prototype.updated_canvas_event = function() {\n",
       "    // Called whenever the canvas gets updated.\n",
       "    this.send_message(\"ack\", {});\n",
       "}\n",
       "\n",
       "// A function to construct a web socket function for onmessage handling.\n",
       "// Called in the figure constructor.\n",
       "mpl.figure.prototype._make_on_message_function = function(fig) {\n",
       "    return function socket_on_message(evt) {\n",
       "        if (evt.data instanceof Blob) {\n",
       "            /* FIXME: We get \"Resource interpreted as Image but\n",
       "             * transferred with MIME type text/plain:\" errors on\n",
       "             * Chrome.  But how to set the MIME type?  It doesn't seem\n",
       "             * to be part of the websocket stream */\n",
       "            evt.data.type = \"image/png\";\n",
       "\n",
       "            /* Free the memory for the previous frames */\n",
       "            if (fig.imageObj.src) {\n",
       "                (window.URL || window.webkitURL).revokeObjectURL(\n",
       "                    fig.imageObj.src);\n",
       "            }\n",
       "\n",
       "            fig.imageObj.src = (window.URL || window.webkitURL).createObjectURL(\n",
       "                evt.data);\n",
       "            fig.updated_canvas_event();\n",
       "            fig.waiting = false;\n",
       "            return;\n",
       "        }\n",
       "        else if (typeof evt.data === 'string' && evt.data.slice(0, 21) == \"data:image/png;base64\") {\n",
       "            fig.imageObj.src = evt.data;\n",
       "            fig.updated_canvas_event();\n",
       "            fig.waiting = false;\n",
       "            return;\n",
       "        }\n",
       "\n",
       "        var msg = JSON.parse(evt.data);\n",
       "        var msg_type = msg['type'];\n",
       "\n",
       "        // Call the  \"handle_{type}\" callback, which takes\n",
       "        // the figure and JSON message as its only arguments.\n",
       "        try {\n",
       "            var callback = fig[\"handle_\" + msg_type];\n",
       "        } catch (e) {\n",
       "            console.log(\"No handler for the '\" + msg_type + \"' message type: \", msg);\n",
       "            return;\n",
       "        }\n",
       "\n",
       "        if (callback) {\n",
       "            try {\n",
       "                // console.log(\"Handling '\" + msg_type + \"' message: \", msg);\n",
       "                callback(fig, msg);\n",
       "            } catch (e) {\n",
       "                console.log(\"Exception inside the 'handler_\" + msg_type + \"' callback:\", e, e.stack, msg);\n",
       "            }\n",
       "        }\n",
       "    };\n",
       "}\n",
       "\n",
       "// from http://stackoverflow.com/questions/1114465/getting-mouse-location-in-canvas\n",
       "mpl.findpos = function(e) {\n",
       "    //this section is from http://www.quirksmode.org/js/events_properties.html\n",
       "    var targ;\n",
       "    if (!e)\n",
       "        e = window.event;\n",
       "    if (e.target)\n",
       "        targ = e.target;\n",
       "    else if (e.srcElement)\n",
       "        targ = e.srcElement;\n",
       "    if (targ.nodeType == 3) // defeat Safari bug\n",
       "        targ = targ.parentNode;\n",
       "\n",
       "    // jQuery normalizes the pageX and pageY\n",
       "    // pageX,Y are the mouse positions relative to the document\n",
       "    // offset() returns the position of the element relative to the document\n",
       "    var x = e.pageX - $(targ).offset().left;\n",
       "    var y = e.pageY - $(targ).offset().top;\n",
       "\n",
       "    return {\"x\": x, \"y\": y};\n",
       "};\n",
       "\n",
       "/*\n",
       " * return a copy of an object with only non-object keys\n",
       " * we need this to avoid circular references\n",
       " * http://stackoverflow.com/a/24161582/3208463\n",
       " */\n",
       "function simpleKeys (original) {\n",
       "  return Object.keys(original).reduce(function (obj, key) {\n",
       "    if (typeof original[key] !== 'object')\n",
       "        obj[key] = original[key]\n",
       "    return obj;\n",
       "  }, {});\n",
       "}\n",
       "\n",
       "mpl.figure.prototype.mouse_event = function(event, name) {\n",
       "    var canvas_pos = mpl.findpos(event)\n",
       "\n",
       "    if (name === 'button_press')\n",
       "    {\n",
       "        this.canvas.focus();\n",
       "        this.canvas_div.focus();\n",
       "    }\n",
       "\n",
       "    var x = canvas_pos.x * mpl.ratio;\n",
       "    var y = canvas_pos.y * mpl.ratio;\n",
       "\n",
       "    this.send_message(name, {x: x, y: y, button: event.button,\n",
       "                             step: event.step,\n",
       "                             guiEvent: simpleKeys(event)});\n",
       "\n",
       "    /* This prevents the web browser from automatically changing to\n",
       "     * the text insertion cursor when the button is pressed.  We want\n",
       "     * to control all of the cursor setting manually through the\n",
       "     * 'cursor' event from matplotlib */\n",
       "    event.preventDefault();\n",
       "    return false;\n",
       "}\n",
       "\n",
       "mpl.figure.prototype._key_event_extra = function(event, name) {\n",
       "    // Handle any extra behaviour associated with a key event\n",
       "}\n",
       "\n",
       "mpl.figure.prototype.key_event = function(event, name) {\n",
       "\n",
       "    // Prevent repeat events\n",
       "    if (name == 'key_press')\n",
       "    {\n",
       "        if (event.which === this._key)\n",
       "            return;\n",
       "        else\n",
       "            this._key = event.which;\n",
       "    }\n",
       "    if (name == 'key_release')\n",
       "        this._key = null;\n",
       "\n",
       "    var value = '';\n",
       "    if (event.ctrlKey && event.which != 17)\n",
       "        value += \"ctrl+\";\n",
       "    if (event.altKey && event.which != 18)\n",
       "        value += \"alt+\";\n",
       "    if (event.shiftKey && event.which != 16)\n",
       "        value += \"shift+\";\n",
       "\n",
       "    value += 'k';\n",
       "    value += event.which.toString();\n",
       "\n",
       "    this._key_event_extra(event, name);\n",
       "\n",
       "    this.send_message(name, {key: value,\n",
       "                             guiEvent: simpleKeys(event)});\n",
       "    return false;\n",
       "}\n",
       "\n",
       "mpl.figure.prototype.toolbar_button_onclick = function(name) {\n",
       "    if (name == 'download') {\n",
       "        this.handle_save(this, null);\n",
       "    } else {\n",
       "        this.send_message(\"toolbar_button\", {name: name});\n",
       "    }\n",
       "};\n",
       "\n",
       "mpl.figure.prototype.toolbar_button_onmouseover = function(tooltip) {\n",
       "    this.message.textContent = tooltip;\n",
       "};\n",
       "mpl.toolbar_items = [[\"Home\", \"Reset original view\", \"fa fa-home icon-home\", \"home\"], [\"Back\", \"Back to previous view\", \"fa fa-arrow-left icon-arrow-left\", \"back\"], [\"Forward\", \"Forward to next view\", \"fa fa-arrow-right icon-arrow-right\", \"forward\"], [\"\", \"\", \"\", \"\"], [\"Pan\", \"Pan axes with left mouse, zoom with right\", \"fa fa-arrows icon-move\", \"pan\"], [\"Zoom\", \"Zoom to rectangle\", \"fa fa-square-o icon-check-empty\", \"zoom\"], [\"\", \"\", \"\", \"\"], [\"Download\", \"Download plot\", \"fa fa-floppy-o icon-save\", \"download\"]];\n",
       "\n",
       "mpl.extensions = [\"eps\", \"pdf\", \"png\", \"ps\", \"raw\", \"svg\"];\n",
       "\n",
       "mpl.default_extension = \"png\";var comm_websocket_adapter = function(comm) {\n",
       "    // Create a \"websocket\"-like object which calls the given IPython comm\n",
       "    // object with the appropriate methods. Currently this is a non binary\n",
       "    // socket, so there is still some room for performance tuning.\n",
       "    var ws = {};\n",
       "\n",
       "    ws.close = function() {\n",
       "        comm.close()\n",
       "    };\n",
       "    ws.send = function(m) {\n",
       "        //console.log('sending', m);\n",
       "        comm.send(m);\n",
       "    };\n",
       "    // Register the callback with on_msg.\n",
       "    comm.on_msg(function(msg) {\n",
       "        //console.log('receiving', msg['content']['data'], msg);\n",
       "        // Pass the mpl event to the overridden (by mpl) onmessage function.\n",
       "        ws.onmessage(msg['content']['data'])\n",
       "    });\n",
       "    return ws;\n",
       "}\n",
       "\n",
       "mpl.mpl_figure_comm = function(comm, msg) {\n",
       "    // This is the function which gets called when the mpl process\n",
       "    // starts-up an IPython Comm through the \"matplotlib\" channel.\n",
       "\n",
       "    var id = msg.content.data.id;\n",
       "    // Get hold of the div created by the display call when the Comm\n",
       "    // socket was opened in Python.\n",
       "    var element = $(\"#\" + id);\n",
       "    var ws_proxy = comm_websocket_adapter(comm)\n",
       "\n",
       "    function ondownload(figure, format) {\n",
       "        window.open(figure.imageObj.src);\n",
       "    }\n",
       "\n",
       "    var fig = new mpl.figure(id, ws_proxy,\n",
       "                           ondownload,\n",
       "                           element.get(0));\n",
       "\n",
       "    // Call onopen now - mpl needs it, as it is assuming we've passed it a real\n",
       "    // web socket which is closed, not our websocket->open comm proxy.\n",
       "    ws_proxy.onopen();\n",
       "\n",
       "    fig.parent_element = element.get(0);\n",
       "    fig.cell_info = mpl.find_output_cell(\"<div id='\" + id + \"'></div>\");\n",
       "    if (!fig.cell_info) {\n",
       "        console.error(\"Failed to find cell for figure\", id, fig);\n",
       "        return;\n",
       "    }\n",
       "\n",
       "    var output_index = fig.cell_info[2]\n",
       "    var cell = fig.cell_info[0];\n",
       "\n",
       "};\n",
       "\n",
       "mpl.figure.prototype.handle_close = function(fig, msg) {\n",
       "    var width = fig.canvas.width/mpl.ratio\n",
       "    fig.root.unbind('remove')\n",
       "\n",
       "    // Update the output cell to use the data from the current canvas.\n",
       "    fig.push_to_output();\n",
       "    var dataURL = fig.canvas.toDataURL();\n",
       "    // Re-enable the keyboard manager in IPython - without this line, in FF,\n",
       "    // the notebook keyboard shortcuts fail.\n",
       "    IPython.keyboard_manager.enable()\n",
       "    $(fig.parent_element).html('<img src=\"' + dataURL + '\" width=\"' + width + '\">');\n",
       "    fig.close_ws(fig, msg);\n",
       "}\n",
       "\n",
       "mpl.figure.prototype.close_ws = function(fig, msg){\n",
       "    fig.send_message('closing', msg);\n",
       "    // fig.ws.close()\n",
       "}\n",
       "\n",
       "mpl.figure.prototype.push_to_output = function(remove_interactive) {\n",
       "    // Turn the data on the canvas into data in the output cell.\n",
       "    var width = this.canvas.width/mpl.ratio\n",
       "    var dataURL = this.canvas.toDataURL();\n",
       "    this.cell_info[1]['text/html'] = '<img src=\"' + dataURL + '\" width=\"' + width + '\">';\n",
       "}\n",
       "\n",
       "mpl.figure.prototype.updated_canvas_event = function() {\n",
       "    // Tell IPython that the notebook contents must change.\n",
       "    IPython.notebook.set_dirty(true);\n",
       "    this.send_message(\"ack\", {});\n",
       "    var fig = this;\n",
       "    // Wait a second, then push the new image to the DOM so\n",
       "    // that it is saved nicely (might be nice to debounce this).\n",
       "    setTimeout(function () { fig.push_to_output() }, 1000);\n",
       "}\n",
       "\n",
       "mpl.figure.prototype._init_toolbar = function() {\n",
       "    var fig = this;\n",
       "\n",
       "    var nav_element = $('<div/>');\n",
       "    nav_element.attr('style', 'width: 100%');\n",
       "    this.root.append(nav_element);\n",
       "\n",
       "    // Define a callback function for later on.\n",
       "    function toolbar_event(event) {\n",
       "        return fig.toolbar_button_onclick(event['data']);\n",
       "    }\n",
       "    function toolbar_mouse_event(event) {\n",
       "        return fig.toolbar_button_onmouseover(event['data']);\n",
       "    }\n",
       "\n",
       "    for(var toolbar_ind in mpl.toolbar_items){\n",
       "        var name = mpl.toolbar_items[toolbar_ind][0];\n",
       "        var tooltip = mpl.toolbar_items[toolbar_ind][1];\n",
       "        var image = mpl.toolbar_items[toolbar_ind][2];\n",
       "        var method_name = mpl.toolbar_items[toolbar_ind][3];\n",
       "\n",
       "        if (!name) { continue; };\n",
       "\n",
       "        var button = $('<button class=\"btn btn-default\" href=\"#\" title=\"' + name + '\"><i class=\"fa ' + image + ' fa-lg\"></i></button>');\n",
       "        button.click(method_name, toolbar_event);\n",
       "        button.mouseover(tooltip, toolbar_mouse_event);\n",
       "        nav_element.append(button);\n",
       "    }\n",
       "\n",
       "    // Add the status bar.\n",
       "    var status_bar = $('<span class=\"mpl-message\" style=\"text-align:right; float: right;\"/>');\n",
       "    nav_element.append(status_bar);\n",
       "    this.message = status_bar[0];\n",
       "\n",
       "    // Add the close button to the window.\n",
       "    var buttongrp = $('<div class=\"btn-group inline pull-right\"></div>');\n",
       "    var button = $('<button class=\"btn btn-mini btn-primary\" href=\"#\" title=\"Stop Interaction\"><i class=\"fa fa-power-off icon-remove icon-large\"></i></button>');\n",
       "    button.click(function (evt) { fig.handle_close(fig, {}); } );\n",
       "    button.mouseover('Stop Interaction', toolbar_mouse_event);\n",
       "    buttongrp.append(button);\n",
       "    var titlebar = this.root.find($('.ui-dialog-titlebar'));\n",
       "    titlebar.prepend(buttongrp);\n",
       "}\n",
       "\n",
       "mpl.figure.prototype._root_extra_style = function(el){\n",
       "    var fig = this\n",
       "    el.on(\"remove\", function(){\n",
       "\tfig.close_ws(fig, {});\n",
       "    });\n",
       "}\n",
       "\n",
       "mpl.figure.prototype._canvas_extra_style = function(el){\n",
       "    // this is important to make the div 'focusable\n",
       "    el.attr('tabindex', 0)\n",
       "    // reach out to IPython and tell the keyboard manager to turn it's self\n",
       "    // off when our div gets focus\n",
       "\n",
       "    // location in version 3\n",
       "    if (IPython.notebook.keyboard_manager) {\n",
       "        IPython.notebook.keyboard_manager.register_events(el);\n",
       "    }\n",
       "    else {\n",
       "        // location in version 2\n",
       "        IPython.keyboard_manager.register_events(el);\n",
       "    }\n",
       "\n",
       "}\n",
       "\n",
       "mpl.figure.prototype._key_event_extra = function(event, name) {\n",
       "    var manager = IPython.notebook.keyboard_manager;\n",
       "    if (!manager)\n",
       "        manager = IPython.keyboard_manager;\n",
       "\n",
       "    // Check for shift+enter\n",
       "    if (event.shiftKey && event.which == 13) {\n",
       "        this.canvas_div.blur();\n",
       "        // select the cell after this one\n",
       "        var index = IPython.notebook.find_cell_index(this.cell_info[0]);\n",
       "        IPython.notebook.select(index + 1);\n",
       "    }\n",
       "}\n",
       "\n",
       "mpl.figure.prototype.handle_save = function(fig, msg) {\n",
       "    fig.ondownload(fig, null);\n",
       "}\n",
       "\n",
       "\n",
       "mpl.find_output_cell = function(html_output) {\n",
       "    // Return the cell and output element which can be found *uniquely* in the notebook.\n",
       "    // Note - this is a bit hacky, but it is done because the \"notebook_saving.Notebook\"\n",
       "    // IPython event is triggered only after the cells have been serialised, which for\n",
       "    // our purposes (turning an active figure into a static one), is too late.\n",
       "    var cells = IPython.notebook.get_cells();\n",
       "    var ncells = cells.length;\n",
       "    for (var i=0; i<ncells; i++) {\n",
       "        var cell = cells[i];\n",
       "        if (cell.cell_type === 'code'){\n",
       "            for (var j=0; j<cell.output_area.outputs.length; j++) {\n",
       "                var data = cell.output_area.outputs[j];\n",
       "                if (data.data) {\n",
       "                    // IPython >= 3 moved mimebundle to data attribute of output\n",
       "                    data = data.data;\n",
       "                }\n",
       "                if (data['text/html'] == html_output) {\n",
       "                    return [cell, data, j];\n",
       "                }\n",
       "            }\n",
       "        }\n",
       "    }\n",
       "}\n",
       "\n",
       "// Register the function which deals with the matplotlib target/channel.\n",
       "// The kernel may be null if the page has been refreshed.\n",
       "if (IPython.notebook.kernel != null) {\n",
       "    IPython.notebook.kernel.comm_manager.register_target('matplotlib', mpl.mpl_figure_comm);\n",
       "}\n"
      ],
      "text/plain": [
       "<IPython.core.display.Javascript object>"
      ]
     },
     "metadata": {},
     "output_type": "display_data"
    },
    {
     "data": {
      "text/html": [
       "<img src=\"data:image/png;base64,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\" width=\"640\">"
      ],
      "text/plain": [
       "<IPython.core.display.HTML object>"
      ]
     },
     "metadata": {},
     "output_type": "display_data"
    }
   ],
   "source": [
    "fig = im_out.display(cfun=plt.cm.plasma)"
   ]
  },
  {
   "cell_type": "markdown",
   "metadata": {
    "slideshow": {
     "slide_type": "slide"
    }
   },
   "source": [
    "## Parker Solar Probe\n",
    "\n",
    "The [Parker Solar Probe](https://www.nasa.gov/content/goddard/parker-solar-probe-humanity-s-first-visit-to-a-star) was launched in 2018 to study the solar atmosphere, coming nearer to the sun than any previous space probe. Data from the Parker probe is already yielding [unexpected results](https://news.engin.umich.edu/2019/12/were-missing-something-fundamental-about-the-sun/?utm_source=newsletter&utm_medium=email&utm_campaign=January_2020).\n",
    "\n",
    "Full disclosure: the original analysis for the [results published in Nature](https://www.nature.com/articles/s41586-019-1813-z) were produced with IDL, not Python. However, NASA just released [the first batch of data from the probe](https://sppgway.jhuapl.edu/) to the public, so let's see if we can't replicate some results..."
   ]
  },
  {
   "cell_type": "markdown",
   "metadata": {
    "slideshow": {
     "slide_type": "fragment"
    }
   },
   "source": [
    "One of the instruments on the probe is [SWEAP](http://sweap.cfa.harvard.edu/), a set of charged-particle detectors. Publicly available data from SWEAP can be found [here](http://sweap.cfa.harvard.edu/Data.html)."
   ]
  },
  {
   "cell_type": "markdown",
   "metadata": {
    "slideshow": {
     "slide_type": "subslide"
    }
   },
   "source": [
    "### A quick aside: data formats\n",
    "\n",
    "Data from the Parker probe is stored in NASA's [Common Data Format (CDF)](https://cdf.gsfc.nasa.gov/). Python libraries such as [spacepy](https://spacepy.github.io/) are used for I/O from the CDF format. As you might expect, `spacepy`'s `pycdf` module loads data from CDF files into NumPy arrays. Unfortunately, `spacepy`'s `pycdf` module depends on an external C-library, and there is not (yet) a `conda` recipe for installing it automatically."
   ]
  },
  {
   "cell_type": "markdown",
   "metadata": {
    "slideshow": {
     "slide_type": "fragment"
    }
   },
   "source": [
    "To get around this I've used `spacepy.pycdf` to save a small amount of SWEAP in the more Python-friendly `.npz` format. I took data from the [SPC instrument collected on 11-08-18](http://sweap.cfa.harvard.edu/pub/data/sci/sweap/spc/L2/2018/11/). If you'd like to work with the full dataset, you can [manually install CDF](https://spacepy.github.io/install_linux.html#cdf), download the data (or any other dataset), and use `devlogs/parker_probe_velocity_log.py` as an example of how to load and interact with the raw data."
   ]
  },
  {
   "cell_type": "code",
   "execution_count": null,
   "metadata": {
    "slideshow": {
     "slide_type": "subslide"
    }
   },
   "outputs": [],
   "source": [
    "# The dataset is ~150MB, so it is not included in the repo.\n",
    "\n",
    "import os, requests, tqdm\n",
    "fname = 'data/parker_probe_spcL2_data_11-08-18.npz'\n",
    "dsize = 152538956   # File size in bytes\n",
    "dlink = 'https://www.dropbox.com/s/z45tbkqwjpyu6tz/parker_probe_spcL2_data_11-08-18.npz?dl=0'\n",
    "if not os.path.exists(fname):\n",
    "    r = requests.get(\n",
    "        dlink,\n",
    "        headers={'user-agent':'Wget/1.20 (linux-gnu)'},\n",
    "        stream=True\n",
    "    )\n",
    "    with open(fname, 'wb') as fh:\n",
    "        for chunk in tqdm.tqdm(r.iter_content(chunk_size=1024), total=dsize/1024):\n",
    "            if chunk:\n",
    "                fh.write(chunk)"
   ]
  },
  {
   "cell_type": "markdown",
   "metadata": {
    "slideshow": {
     "slide_type": "slide"
    }
   },
   "source": [
    "Now that we have the data, let's try to replicate the top pane of [this image](http://sweap.cfa.harvard.edu/Images/example_spc_ql.png) from the [SWEAP data page](http://sweap.cfa.harvard.edu/Data.html).\n",
    "\n",
    "We don't have time to discuss the data in detail, but the [Appendix 3 of the SWEAP Data User's Guide](http://sweap.cfa.harvard.edu/sweap_data_user_guide.pdf) outlines a procedure we can use to reproduce the desired figure. We start by loading the data:"
   ]
  },
  {
   "cell_type": "code",
   "execution_count": null,
   "metadata": {
    "slideshow": {
     "slide_type": "fragment"
    }
   },
   "outputs": [],
   "source": [
    "# Load data from the SPC instrument on the Parker probe\n",
    "data = np.load(fname)\n",
    "t = data['t']          # Measurement time\n",
    "# Edges of Voltage bins\n",
    "mv_lo = data['mv_lo'].T\n",
    "mv_hi = data['mv_hi'].T\n",
    "# Differential charge flux density\n",
    "dcfd = data['diff_charge_flux_density'].T"
   ]
  },
  {
   "cell_type": "code",
   "execution_count": null,
   "metadata": {
    "slideshow": {
     "slide_type": "fragment"
    }
   },
   "outputs": [],
   "source": [
    "# The data include timestamps with microsecond resolution\n",
    "# and 128 channels per data point\n",
    "print(t.shape, mv_lo.shape, dcfd.shape)\n",
    "t"
   ]
  },
  {
   "cell_type": "code",
   "execution_count": null,
   "metadata": {
    "slideshow": {
     "slide_type": "subslide"
    }
   },
   "outputs": [],
   "source": [
    "# The CDF file uses a fill value (-1e31) to denote invalid data\n",
    "print(dcfd)"
   ]
  },
  {
   "cell_type": "code",
   "execution_count": null,
   "metadata": {
    "slideshow": {
     "slide_type": "fragment"
    }
   },
   "outputs": [],
   "source": [
    "# Let's replace them so we can keep track of non-data in the arrays\n",
    "for arr in (mv_lo, mv_hi, dcfd):\n",
    "    arr[arr == -1e31] = np.nan\n",
    "print(dcfd)"
   ]
  },
  {
   "cell_type": "code",
   "execution_count": null,
   "metadata": {
    "slideshow": {
     "slide_type": "subslide"
    }
   },
   "outputs": [],
   "source": [
    "# Upon closer inspection, only the first 30 of the 128 channels store valid data\n",
    "np.sum(np.isfinite(dcfd), axis=1)"
   ]
  },
  {
   "cell_type": "code",
   "execution_count": null,
   "metadata": {
    "slideshow": {
     "slide_type": "fragment"
    }
   },
   "outputs": [],
   "source": [
    "# Limit computation to valid voltage bins\n",
    "mv_lo, mv_hi, dcfd = mv_lo[:31,:], mv_hi[:31,:], dcfd[:31,:]"
   ]
  },
  {
   "cell_type": "markdown",
   "metadata": {
    "slideshow": {
     "slide_type": "subslide"
    }
   },
   "source": [
    "After removing the unused data channels, there are still individual measurements that resulted in invalid data. Let's remove these as well."
   ]
  },
  {
   "cell_type": "code",
   "execution_count": null,
   "metadata": {
    "slideshow": {
     "slide_type": "fragment"
    }
   },
   "outputs": [],
   "source": [
    "# Mask out time samples that have bad data\n",
    "bad_data = np.any(~np.isfinite(dcfd), axis=0)\n",
    "t = t[~bad_data]\n",
    "mv_lo = mv_lo[:, ~bad_data]\n",
    "mv_hi = mv_hi[:, ~bad_data]\n",
    "dcfd = dcfd[:, ~bad_data]\n",
    "print(\"{} time samples out of {} discarded\".format(bad_data.sum(), bad_data.shape[0]))"
   ]
  },
  {
   "cell_type": "markdown",
   "metadata": {
    "slideshow": {
     "slide_type": "slide"
    }
   },
   "source": [
    "That takes care of the data munging, now on to the computation:"
   ]
  },
  {
   "cell_type": "code",
   "execution_count": null,
   "metadata": {
    "slideshow": {
     "slide_type": "subslide"
    }
   },
   "outputs": [],
   "source": [
    "# Compute center and widths of voltage bins\n",
    "V = (mv_hi + mv_lo) / 2\n",
    "dV = (mv_hi - mv_lo) / 2"
   ]
  },
  {
   "cell_type": "code",
   "execution_count": null,
   "metadata": {
    "slideshow": {
     "slide_type": "fragment"
    }
   },
   "outputs": [],
   "source": [
    "# Proton properties\n",
    "q = 1.602e-19   # Charge [C]\n",
    "mp = 1.673e-27  # Mass [kg]"
   ]
  },
  {
   "cell_type": "code",
   "execution_count": null,
   "metadata": {
    "slideshow": {
     "slide_type": "fragment"
    }
   },
   "outputs": [],
   "source": [
    "# N.B. scipy.special includes functions for computing the elliptic integral\n",
    "# For the sake of consistency, we use the approximation as detailed in App. 3\n",
    "from elliptic_integral_approximation import schlawin as elliptic\n",
    "\n",
    "# Convert from energy -> velocity\n",
    "v = np.sqrt(2 * q * mv_hi / mp) * (2 / np.pi) * elliptic(mv_lo/mv_hi)\n",
    "dv = np.sqrt((4 * (q/mp) * V) - v**2)"
   ]
  },
  {
   "cell_type": "code",
   "execution_count": null,
   "metadata": {
    "slideshow": {
     "slide_type": "slide"
    }
   },
   "outputs": [],
   "source": [
    "# Finally, compute the proton distribution as a function of proton velocity\n",
    "Fv = (dcfd / (q* v* 10**8)) * (1 / dv)"
   ]
  },
  {
   "cell_type": "markdown",
   "metadata": {
    "slideshow": {
     "slide_type": "slide"
    }
   },
   "source": [
    "Let's see how we did..."
   ]
  },
  {
   "cell_type": "code",
   "execution_count": null,
   "metadata": {
    "slideshow": {
     "slide_type": "fragment"
    }
   },
   "outputs": [],
   "source": [
    "viz_kwargs = {\n",
    "    \"cmap\" : plt.cm.plasma,\n",
    "    \"norm\" : colors.LogNorm(vmin=1, vmax=200)\n",
    "}"
   ]
  },
  {
   "cell_type": "code",
   "execution_count": null,
   "metadata": {
    "scrolled": true,
    "slideshow": {
     "slide_type": "subslide"
    }
   },
   "outputs": [],
   "source": [
    "# Visualize\n",
    "fig = plt.figure(figsize=(8,4)); ax = fig.add_subplot(111)\n",
    "ax.pcolormesh(t[np.newaxis,:], v/1000, Fv, **viz_kwargs)\n",
    "fig.colorbar(ax.collections[0])\n",
    "fig.autofmt_xdate()"
   ]
  },
  {
   "cell_type": "markdown",
   "metadata": {
    "slideshow": {
     "slide_type": "slide"
    }
   },
   "source": [
    "# Scope of NumPy\n",
    "\n",
    "NumPy currently targets computation involving:\n",
    "\n",
    " * in-memory, homogenously-typed array data\n",
    " * cpu-based"
   ]
  },
  {
   "cell_type": "markdown",
   "metadata": {
    "slideshow": {
     "slide_type": "subslide"
    }
   },
   "source": [
    "Important guiding principles:\n",
    " - **Stability**: Foundational component of the scientific python ecosystem for going-on 15 years\n",
    " - **Interoperability**\n",
    "   * NumPy is the standard array data structure within the scientific Python ecosystem\n",
    "   * What about all the new array libraries?\n",
    "     - [XArray](http://xarray.pydata.org/en/stable/)\n",
    "     - [Dask Arrays](https://docs.dask.org/en/latest/array.html)\n",
    "     - [Jax](https://jax.readthedocs.io/en/latest/)\n",
    "     - [pydata sparse](https://sparse.pydata.org/en/latest/)\n",
    "     - [PyTorch](https://pytorch.org/)\n",
    "     - [TensorFlow](https://www.tensorflow.org/api_docs)"
   ]
  },
  {
   "cell_type": "markdown",
   "metadata": {
    "slideshow": {
     "slide_type": "slide"
    }
   },
   "source": [
    "# The changing landscape\n",
    "\n",
    " - In the early days, many new NumPy users were converts from languages like Matlab and IDL\n",
    "   * See the [NumPy for Matlab users](https://docs.scipy.org/doc/numpy/user/numpy-for-matlab-users.html) article in the docs\n",
    "   \n",
    " - **Now**: The scientific Python ecosystem (including libraries for data science and ML) is incredibly feature-rich and powerful, and is attracting many new users.\n",
    "   * Users interested in specific applications (machine learning, image processing, geoscience, bioinformatics, etc.) end up interacting with NumPy indirectly"
   ]
  },
  {
   "cell_type": "markdown",
   "metadata": {
    "slideshow": {
     "slide_type": "slide"
    }
   },
   "source": [
    "## Google Trends"
   ]
  },
  {
   "cell_type": "code",
   "execution_count": null,
   "metadata": {
    "slideshow": {
     "slide_type": "fragment"
    }
   },
   "outputs": [],
   "source": [
    "# Data downloaded from google trends\n",
    "!ls data/*.csv"
   ]
  },
  {
   "cell_type": "code",
   "execution_count": null,
   "metadata": {
    "slideshow": {
     "slide_type": "fragment"
    }
   },
   "outputs": [],
   "source": [
    "!head data/datascience.csv"
   ]
  },
  {
   "cell_type": "code",
   "execution_count": null,
   "metadata": {
    "slideshow": {
     "slide_type": "subslide"
    }
   },
   "outputs": [],
   "source": [
    "timeseries_dtype = np.dtype([\n",
    "    ('date', 'datetime64[M]'),\n",
    "    ('relpop', float)\n",
    "])\n",
    "\n",
    "parse_kwargs = {\n",
    "    \"skiprows\" : 3,\n",
    "    \"delimiter\" : \",\",\n",
    "    \"dtype\" : timeseries_dtype\n",
    "}\n",
    "\n",
    "fnames = (\"numpy\", \"datascience\", \"matlab\")\n",
    "\n",
    "data = {\n",
    "    fname : np.loadtxt(\"data/{}.csv\".format(fname), **parse_kwargs) for fname in fnames\n",
    "}"
   ]
  },
  {
   "cell_type": "code",
   "execution_count": null,
   "metadata": {
    "slideshow": {
     "slide_type": "subslide"
    }
   },
   "outputs": [],
   "source": [
    "fig, ax = plt.subplots()\n",
    "for name, vals in data.items():\n",
    "    plt.plot(vals['date'], vals['relpop'], label=name)\n",
    "ax.set_title('Google Trends (US): 2004 - Present')\n",
    "ax.set_ylabel('Relative Popularity of Search Term [arb]')\n",
    "fig.autofmt_xdate()\n",
    "ax.legend();"
   ]
  },
  {
   "cell_type": "code",
   "execution_count": null,
   "metadata": {
    "slideshow": {
     "slide_type": "slide"
    }
   },
   "outputs": [],
   "source": [
    "def smooth(s, kernsize=21):\n",
    "    s_padded = np.r_[s[kernsize-1:0:-1], s, s[-2:-kernsize-1:-1]]\n",
    "    kern = np.hamming(kernsize)\n",
    "    res_padded = np.convolve(kern/kern.sum(), s_padded, mode='valid')\n",
    "    # De-pad and renormalize\n",
    "    return 100 * res_padded[kernsize//2:-kernsize//2+1] / res_padded.max()\n",
    "\n",
    "fig, ax = plt.subplots()\n",
    "for name, vals in data.items():\n",
    "    plt.plot(vals['date'], smooth(vals['relpop']), label=name)\n",
    "ax.set_title('Google Trends (US): 2004 - Present')\n",
    "ax.set_ylabel('Relative Popularity of Search Term [arb]')\n",
    "ax.legend();"
   ]
  },
  {
   "cell_type": "markdown",
   "metadata": {
    "slideshow": {
     "slide_type": "slide"
    }
   },
   "source": [
    "# The changing landscape \n",
    " * Focus resources on supporting stable, performant base for dependent libraries\n",
    "   * Scope: what goes in NumPy itself vs. dependent packages?\n",
    "   * Balance between performance and maintainability\n",
    "     > Optimization is the altar where maintainability is sacrificed\n",
    "     >\n",
    "     > \\- Luciano Ramalho, *Fluent Python*"
   ]
  },
  {
   "cell_type": "markdown",
   "metadata": {
    "slideshow": {
     "slide_type": "slide"
    }
   },
   "source": [
    "# How is NumPy Developed\n",
    "\n",
    " - Collaboratively <font color=\"red\">(caveat here about the bus factor?)</font>\n",
    "\n",
    "Commitment to stability means proposed changes must go through extensive design and review:\n",
    " - [Numpy Enhancement Proposals (NEPs)](https://numpy.org/neps/) - analogous to PEPs, specific to NumPy\n",
    " - Steering council for high-level direction and coordination with [NumFOCUS](https://numfocus.org/)"
   ]
  },
  {
   "cell_type": "markdown",
   "metadata": {
    "slideshow": {
     "slide_type": "slide"
    }
   },
   "source": [
    "# Case-Study: `np.random`\n",
    " - Changes proposed in [NEP 19](https://numpy.org/neps/nep-0019-rng-policy.html), subsequently \"approved\" by the community after discussion on the mailing list.\n",
    " - Overhaul of `np.random` landed in version 1.17\n",
    " \n",
    "   * Improve *performance* and *flexibility* without sacrificing stability"
   ]
  },
  {
   "cell_type": "code",
   "execution_count": null,
   "metadata": {
    "slideshow": {
     "slide_type": "fragment"
    }
   },
   "outputs": [],
   "source": [
    "# Generate 1,000,000 random numbers the old way\n",
    "old_rands = np.random.random(int(1e6))\n",
    "print(\"Uniform random numbers from legacy np.random.random:\\n  {}\".format(old_rands))"
   ]
  },
  {
   "cell_type": "code",
   "execution_count": null,
   "metadata": {
    "slideshow": {
     "slide_type": "fragment"
    }
   },
   "outputs": [],
   "source": [
    "# ... and the new way\n",
    "from numpy.random import PCG64, Generator\n",
    "rg = Generator(PCG64())\n",
    "new_rands = rg.random(int(1e6))\n",
    "print(\"Uniform random numbers with new tools:\\n  {}\".format(new_rands))"
   ]
  },
  {
   "cell_type": "markdown",
   "metadata": {
    "slideshow": {
     "slide_type": "slide"
    }
   },
   "source": [
    "## Compatibility\n",
    "\n",
    "Before version 1.17, `numpy.random` relied on `RandomState` to configure and produce random numbers.\n",
    "\n",
    "There are many, many LOC (both in test suites and in production) that depend on the original `numpy.random`, so both the *interface* and the *results* must remain unchanged\n",
    " * <font color=\"green\">**Upside: Stability**</font> - output of `np.random` remains consistent with previous versions\n",
    " * <font color=\"orange\">**Downside: Discoverability**</font> - users need to know about new interface to access improvements"
   ]
  },
  {
   "cell_type": "code",
   "execution_count": null,
   "metadata": {
    "slideshow": {
     "slide_type": "fragment"
    }
   },
   "outputs": [],
   "source": [
    "# Choose a seed for generator\n",
    "seed = 1817\n",
    "\n",
    "# Random numbers generated by np.random in v1.15\n",
    "rands_from_v1_15 = np.load('data/npy_v1.15_random_seed1817_1000samples.npy')\n",
    "# Generate random numbers with legacy interface\n",
    "np.random.seed(seed)\n",
    "legacy_rands = np.random.random(1000)\n",
    "\n",
    "print(\"Arrays equivalent: \", np.allclose(rands_from_v1_15, legacy_rands))"
   ]
  },
  {
   "cell_type": "markdown",
   "metadata": {
    "slideshow": {
     "slide_type": "slide"
    }
   },
   "source": [
    "It is possible (though clunky) to replicate legacy behavior with new interface"
   ]
  },
  {
   "cell_type": "code",
   "execution_count": null,
   "metadata": {
    "slideshow": {
     "slide_type": "fragment"
    }
   },
   "outputs": [],
   "source": [
    "seed = 1817\n",
    "\n",
    "from numpy.random import MT19937, RandomState\n",
    "# Set random state with legacy seeding\n",
    "rs = RandomState(seed)\n",
    "mt = MT19937()\n",
    "mt.state = rs.get_state()\n",
    "\n",
    "# New interface for generation\n",
    "rg = Generator(mt)\n",
    "mt_rands = rg.random(1000)\n",
    "print(\"Legacy: {}\\nGenerator: {}\".format(legacy_rands[:4], mt_rands[:4]))\n",
    "print(\"Arrays equivalent: \", np.allclose(legacy_rands, mt_rands))"
   ]
  },
  {
   "cell_type": "markdown",
   "metadata": {
    "slideshow": {
     "slide_type": "slide"
    }
   },
   "source": [
    "## Performance\n",
    "\n",
    "The [PCG64](https://docs.scipy.org/doc/numpy/reference/random/bit_generators/pcg64.html) BitGenerator is a \n",
    "[significant improvment](http://www.pcg-random.org/) over the legacy Marsenne Twister in many areas, including speed:\n",
    "\n"
   ]
  },
  {
   "cell_type": "code",
   "execution_count": null,
   "metadata": {
    "slideshow": {
     "slide_type": "fragment"
    }
   },
   "outputs": [],
   "source": [
    "#NOTE: PCG64 is the new default bit_generator, so default_rng() equivalent to Generator(PCG64())\n",
    "from numpy.random import default_rng\n",
    "rg = default_rng()\n",
    "num_samples = int(1e5)\n",
    "\n",
    "print(\"Uniform random numbers:\")\n",
    "%timeit np.random.random(num_samples)\n",
    "%timeit rg.random(num_samples)"
   ]
  },
  {
   "cell_type": "markdown",
   "metadata": {
    "slideshow": {
     "slide_type": "slide"
    }
   },
   "source": [
    "In addition, `Generator` includes improved methods for drawing samples from distributions."
   ]
  },
  {
   "cell_type": "code",
   "execution_count": null,
   "metadata": {
    "slideshow": {
     "slide_type": "fragment"
    }
   },
   "outputs": [],
   "source": [
    "print(\"Standard Normal:\")\n",
    "%timeit np.random.standard_normal(num_samples)\n",
    "%timeit rg.standard_normal(num_samples) "
   ]
  },
  {
   "cell_type": "code",
   "execution_count": null,
   "metadata": {
    "slideshow": {
     "slide_type": "fragment"
    }
   },
   "outputs": [],
   "source": [
    "print(\"Standard Exponential:\")\n",
    "%timeit np.random.standard_exponential(num_samples)\n",
    "%timeit rg.standard_exponential(num_samples)"
   ]
  },
  {
   "cell_type": "code",
   "execution_count": null,
   "metadata": {
    "slideshow": {
     "slide_type": "fragment"
    }
   },
   "outputs": [],
   "source": [
    "print(\"Standard Gamma:\")\n",
    "shape_param = 3.0\n",
    "%timeit np.random.standard_gamma(shape_param, num_samples)\n",
    "%timeit rg.standard_gamma(shape_param, num_samples)"
   ]
  },
  {
   "cell_type": "markdown",
   "metadata": {
    "slideshow": {
     "slide_type": "slide"
    }
   },
   "source": [
    "# What's next for NumPy?\n",
    "\n",
    "![NumpyRoadmapGraphic](./images/numpy_roadmap_graphic.png)\n",
    "\n",
    "Image from [this PyData Amsterdam 2019 presentation](https://www.slideshare.net/RalfGommers/the-evolution-of-array-computing-in-python/14) by [Ralf Gommers](https://github.com/rgommers)"
   ]
  },
  {
   "cell_type": "markdown",
   "metadata": {
    "slideshow": {
     "slide_type": "slide"
    }
   },
   "source": [
    "## Interoperability\n",
    "\n",
    "Separate NumPy API from NumPy \"execution engine\"\n",
    " - Allow other libraries ([Dask](https://dask.org/), [CuPy](https://cupy.chainer.org/), [PyTorch](https://pytorch.org/)) to reuse NumPy API\n",
    " - Mitigate ecosystem fragmentation\n",
    "   * E.g. don't want a re-implementation of `scipy` for each ML framework (`pytorch.scipy`, `tensorflow.scipy`, etc.)\n",
    "\n"
   ]
  },
  {
   "cell_type": "markdown",
   "metadata": {
    "slideshow": {
     "slide_type": "slide"
    }
   },
   "source": [
    "### Current n-dimensional array landscape\n",
    "\n",
    "![arrays_now](images/array_landscape_now.png)\n",
    "\n",
    "Images from this [talk at PyData NY 2019](https://www.slideshare.net/RalfGommers/pydata-nyc-whatsnew-numpyscipy-2019?next_slideshow=1) by [Ralf Gommers](https://github.com/rgommers)"
   ]
  },
  {
   "cell_type": "markdown",
   "metadata": {
    "slideshow": {
     "slide_type": "slide"
    }
   },
   "source": [
    "### Vision for the future\n",
    "\n",
    "![array_vision](images/array_landscape_vision.png)\n",
    "\n",
    "Images from this [talk at PyData NY 2019](https://www.slideshare.net/RalfGommers/pydata-nyc-whatsnew-numpyscipy-2019?next_slideshow=1) by [Ralf Gommers](https://github.com/rgommers)"
   ]
  },
  {
   "cell_type": "markdown",
   "metadata": {
    "slideshow": {
     "slide_type": "slide"
    }
   },
   "source": [
    "## First solution: `__array_function__` protocol\n",
    "\n",
    " - Proposed in [NEP 18](https://numpy.org/neps/nep-0018-array-function-protocol.html)\n",
    " - Array function protocol enabled by default as of version 1.17\n",
    " \n",
    "![array_function_protocol](images/array_function_descr.png)\n",
    " \n",
    "Image source: [this presentation](https://www.slideshare.net/RalfGommers/arrayfunction-conceptual-design-related-concepts?from_action=save) by [Ralf Gommers](https://github.com/rgommers)"
   ]
  },
  {
   "cell_type": "markdown",
   "metadata": {
    "slideshow": {
     "slide_type": "slide"
    }
   },
   "source": [
    "### `__array_function__` example"
   ]
  },
  {
   "cell_type": "code",
   "execution_count": null,
   "metadata": {
    "slideshow": {
     "slide_type": "fragment"
    }
   },
   "outputs": [],
   "source": [
    "import numpy as np\n",
    "\n",
    "rg = np.random.default_rng()\n",
    "x = rg.random((5000, 1000))\n",
    "\n",
    "# Factorize with np.linalg\n",
    "q, r = np.linalg.qr(x)\n",
    "type(r)"
   ]
  },
  {
   "cell_type": "code",
   "execution_count": null,
   "metadata": {
    "slideshow": {
     "slide_type": "fragment"
    }
   },
   "outputs": [],
   "source": [
    "import dask.array as da\n",
    "\n",
    "d = da.from_array(x, chunks=(1000, 1000))\n",
    "\n",
    "# Same call signature!\n",
    "q, r = np.linalg.qr(d)\n",
    "type(d)"
   ]
  },
  {
   "cell_type": "code",
   "execution_count": null,
   "metadata": {
    "slideshow": {
     "slide_type": "fragment"
    }
   },
   "outputs": [],
   "source": [
    "da.core.Array??"
   ]
  },
  {
   "cell_type": "markdown",
   "metadata": {
    "slideshow": {
     "slide_type": "slide"
    }
   },
   "source": [
    "## Lessons learned from `__array_function__`\n",
    "\n",
    " - The `__array_function__` protocol has been partially successful, but has fallen short of universal adoption.\n",
    " - Valuable feedback from the community has resulted in [NEP 37](https://numpy.org/neps/nep-0037-array-module.html)\n",
    "   * Defines `__array_module__` protocol\n",
    "   * Currently under development (interested?)"
   ]
  },
  {
   "cell_type": "markdown",
   "metadata": {
    "slideshow": {
     "slide_type": "slide"
    }
   },
   "source": [
    "## Overhaul of the data type system\n",
    "\n",
    "The NumPy C-API allows for user-defined dtypes, but some components (e.g. some logic for casting rules) are not currently extensible by user-defined types. A [NEP is currently being drafted](https://github.com/numpy/numpy/blob/a111b551ae940d7d5f8523fef1cf3589c6ba00a0/doc/neps/nep-0033-extensible-dtypes.rst) to overhaul the dtype system. The proposal aims to:"
   ]
  },
  {
   "cell_type": "markdown",
   "metadata": {
    "slideshow": {
     "slide_type": "subslide"
    }
   },
   "source": [
    "### Improve NumPy maintainability\n",
    " * Improve organization of dtype checking/comparison machinery\n",
    " * Use the same API for built-in and user-defined dtypes\n",
    " * Improve extensibility of API: facilitate future additions/modifications"
   ]
  },
  {
   "cell_type": "markdown",
   "metadata": {
    "slideshow": {
     "slide_type": "fragment"
    }
   },
   "source": [
    "### User impact\n",
    " - Easier-to-use mechanism for defining fully-feature dtypes (including from Python)\n",
    " - Host of new dtypes for the ecosystem:\n",
    "   * Physical units (cf. [astropy.unit](https://docs.astropy.org/en/stable/units/))\n",
    "   * `bfloat16`, `int24`, etc.\n",
    "   * Categorical types"
   ]
  },
  {
   "cell_type": "markdown",
   "metadata": {
    "slideshow": {
     "slide_type": "skip"
    }
   },
   "source": [
    "## Improved SIMD incorporation for `ufuncs`\n",
    "\n",
    "Strike a balance between **optimization** and **maintainability**\n",
    "\n",
    " - Define set of architecture-agnostic universal intrinsics\n",
    "   * At build time, build code paths based on features available for the host architecture\n",
    "   * At run time, detect which features are available and select which of available code paths to use\n",
    " - In the process of being formalized in a [draft NEP](https://github.com/mattip/numpy/blob/nep_simd/doc/neps/nep-XXXX-SIMD-optimizations.rst)\n",
    "   * Preliminary work in support of this proposed enhancment can be found [here](https://github.com/numpy/numpy/pull/13421/files) and [here](https://github.com/numpy/numpy/pull/13516)"
   ]
  },
  {
   "cell_type": "markdown",
   "metadata": {
    "slideshow": {
     "slide_type": "skip"
    }
   },
   "source": [
    "## Slides on indexing?"
   ]
  },
  {
   "cell_type": "markdown",
   "metadata": {
    "slideshow": {
     "slide_type": "slide"
    }
   },
   "source": [
    "## Supporting language features: type annotations\n",
    "\n",
    "Thinking about how best to support type annotations became especially important when they became an official core language feature in Python 3.7."
   ]
  },
  {
   "cell_type": "markdown",
   "metadata": {
    "slideshow": {
     "slide_type": "subslide"
    }
   },
   "source": [
    "Work on type annotations is located in the [numpy-stubs](https://github.com/numpy/numpy-stubs) repository. Basic type annotations are supported. Here's the contents of `type_annotations.py`:\n",
    "\n",
    "```python\n",
    "import numpy as np\n",
    "\n",
    "def my_strict_sin(x: np.ndarray) -> np.ndarray:\n",
    "    return np.sin(x)\n",
    "\n",
    "def my_chill_sin(x: np.array_like) -> np.array_like:\n",
    "    return np.sin(x)\n",
    "\n",
    "if __name__ == \"__main__\":\n",
    "    a = np.arange(10)\n",
    "    l = [1, 2, 3]\n",
    "    my_strict_sin(a)     # Passes typecheck\n",
    "    my_strict_sin(l)     # Fails typecheck\n",
    "    my_chill_sin(a)      # Passes typecheck\n",
    "    my_chill_sin(l)      # Passes typecheck\n",
    "```"
   ]
  },
  {
   "cell_type": "code",
   "execution_count": null,
   "metadata": {
    "slideshow": {
     "slide_type": "fragment"
    }
   },
   "outputs": [],
   "source": [
    "!mypy type_annotations.py"
   ]
  },
  {
   "cell_type": "markdown",
   "metadata": {
    "slideshow": {
     "slide_type": "slide"
    }
   },
   "source": [
    "# Beyond the horizon... NumPy 2.0?\n",
    "\n",
    " - Major revision -> opportunity for refactoring/enhancements that break API\n",
    "   * Weigh potential for improvements against the pain of breaking changes (example: Python2 -> Python3)\n",
    " - So much new functionality being developed in external libraries\n",
    "   * Changes that facilitate external development are priorities\n",
    " \n",
    "A bit of the history surrounding the idea of NumPy 2.0 can be found [here](https://github.com/numpy/numpy/issues/9066)"
   ]
  },
  {
   "cell_type": "markdown",
   "metadata": {
    "slideshow": {
     "slide_type": "slide"
    }
   },
   "source": [
    "# Getting involved\n",
    "\n",
    "NumPy presents an opportunity to work on a project that is depended on by tens of millions of users (and counting). Here's how you can get involved:\n",
    " 1. Contribute\n",
    "   - [GitHub Issues](https://github.com/numpy/numpy/issues) and [open PRs](https://github.com/numpy/numpy/pulls) are a great entry point\n",
    "     * If you want to get your hands dirty immediately, try starting with the [good first issue](https://github.com/numpy/numpy/issues?q=is%3Aopen+is%3Aissue+label%3A%22good+first+issue%22) label\n",
    "     * For challenges with a greater scope, try the [Enhancement](https://github.com/numpy/numpy/labels/01%20-%20Enhancement) or [Wish List](https://github.com/numpy/numpy/labels/23%20-%20Wish%20List) labels\n",
    "   - Check out the discussion revolving around accepted and proposed [NEPs](https://numpy.org/neps/)\n",
    " 2. Participate in the conversation\n",
    "  - [Numpy discussion mailing list](https://www.scipy.org/scipylib/mailing-lists.html)\n",
    "  - Numpy community meetings (links and cadence here)\n",
    "  - slack channel"
   ]
  }
 ],
 "metadata": {
  "celltoolbar": "Slideshow",
  "kernelspec": {
   "display_name": "Python 3",
   "language": "python",
   "name": "python3"
  },
  "language_info": {
   "codemirror_mode": {
    "name": "ipython",
    "version": 3
   },
   "file_extension": ".py",
   "mimetype": "text/x-python",
   "name": "python",
   "nbconvert_exporter": "python",
   "pygments_lexer": "ipython3",
   "version": "3.8.1"
  }
 },
 "nbformat": 4,
 "nbformat_minor": 2
}
