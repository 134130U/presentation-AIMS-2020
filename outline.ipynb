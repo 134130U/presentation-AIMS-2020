{
 "cells": [
  {
   "cell_type": "markdown",
   "metadata": {},
   "source": [
    "# NumPy beyond 2020\n",
    "\n",
    "Ross Barnowski `rossbar@berkeley.edu` | [rossbar](https://github.com/rossbar) on GitHub\n",
    "\n",
    "University of Michigan EECS | 1/30/2020"
   ]
  },
  {
   "cell_type": "markdown",
   "metadata": {},
   "source": [
    "# What is NumPy?\n",
    "\n",
    "> *NumPy is the fundamental package for scientific computing with Python*\n",
    "> \n",
    ">  [numpy.org](https://numpy.org/)\n",
    "\n",
    "Strong stuff."
   ]
  },
  {
   "cell_type": "code",
   "execution_count": 1,
   "metadata": {},
   "outputs": [],
   "source": [
    "# Code example: github graphql query for top starred projects with numpy as a dependency"
   ]
  },
  {
   "cell_type": "markdown",
   "metadata": {},
   "source": [
    "# A bit of history\n",
    "\n",
    " - **Mid 90's/Early 00's**: desire for high-performance numerical computation in python leads to [`numeric`](https://numpy.org/_downloads/768fa66c250a0335ad3a6a30fae48e34/numeric-manual.pdf)\n",
    " - Early adopters included the [Space Telescope Science Institute (STScI)](http://www.stsci.edu/) who developed another array computation package to better suit their needs: `numarray`.\n",
    " - **2005** The best ideas from `numeric` and `numarray` were combined in the development of a new library, `numpy`\n",
    "   * This work was largely done by Travis Oliphant, a graduate student at the Mayo Clinic at the time\n",
    " - **2006** Numpy v1.0 released\n",
    " \n",
    "[NumPy Development History](https://github.com/numpy/numpy/graphs/contributors)"
   ]
  },
  {
   "cell_type": "markdown",
   "metadata": {},
   "source": [
    "# What does NumPy provide?\n",
    "\n",
    " - `ndarray`: A generic, n-dimensional array data structure\n",
    " - Sophisticated machinery for operating on array data (broadcasting, `ufuncs`)\n",
    " - Tools for common scientific/numerical tasks:\n",
    "   * Random number generation (`np.random`)\n",
    "   * Fourier analysis (`np.fft`)\n",
    "   * Linear algebra (`np.linalg`)\n",
    " - Language extension/integration (C-API, `f2py`)"
   ]
  },
  {
   "cell_type": "markdown",
   "metadata": {},
   "source": [
    "# Where is NumPy used?\n",
    "\n",
    " - To produce the first image of a black hole \n",
    "   [Event Horizon Telescope Collaboration](https://github.com/achael/eht-imaging)\n",
    " - [To detect the gravitational wave signature from a neutron star merger](https://github.com/gwastro/pycbc)\n",
    " - [To discover fundamental particles like the Higgs Boson](https://github.com/cms-sw/cmssw)\n",
    "   * Also [scikit-hep](https://scikit-hep.org/)\n",
    " - [Neuroimaging](https://nipy.org/nibabel/) - nipy uses `ndarray` as the fundamental structure for the entire stack\n",
    "   * fMRI visualization example from [section 3.4](https://www.frontiersin.org/articles/10.3389/fninf.2014.00014/full#h4)\n",
    "     is a nice, brief example"
   ]
  },
  {
   "cell_type": "markdown",
   "metadata": {},
   "source": [
    "# Scope of NumPy\n",
    "\n",
    "NumPy currently targets computation involving:\n",
    "\n",
    " * in-memory, homogenously-typed array data\n",
    " * cpu-based\n",
    " \n",
    "Important guiding principles:\n",
    " - **Stability**: Foundational component of the scientific python ecosystem for going-on 15 years\n",
    " - **Interoperability**: A *de facto* standard for array APIs in python"
   ]
  },
  {
   "cell_type": "markdown",
   "metadata": {},
   "source": [
    "# Adapting to community needs\n",
    "\n",
    " - In the early days, many new NumPy users were converts from matlab\n",
    "   * See the [NumPy for Matlab users](https://docs.scipy.org/doc/numpy/user/numpy-for-matlab-users.html) article in the docs\n",
    "   \n",
    " - Now: The scientific ecosystem is incredibly feature-rich and powerful: attracting many new users\n",
    "   * Users interested in specific applications (geoscience, image segmentation, bioinformatics, etc.) end up interacting with NumPy indirectly\n",
    "   * Focus resources on supporting stable, performant base for dependent libraries\n",
    "     * Why scope is important: what is worth the maintenance burden\n",
    "     * Balance between performance and maintainability\n",
    "     > Optimization is the altar where maintainability is sacrificed\n",
    "     >\n",
    "     > L. Ramalho, *Fluent Python*"
   ]
  },
  {
   "cell_type": "code",
   "execution_count": 15,
   "metadata": {},
   "outputs": [
    {
     "name": "stdout",
     "output_type": "stream",
     "text": [
      "(193,)\n"
     ]
    },
    {
     "data": {
      "image/png": "[encoded data removed]",
      "text/plain": [
       "<Figure size 432x288 with 1 Axes>"
      ]
     },
     "metadata": {
      "needs_background": "light"
     },
     "output_type": "display_data"
    }
   ],
   "source": [
    "# Rise of data science google trends here\n",
    "import numpy as np\n",
    "import matplotlib.pyplot as plt\n",
    "\n",
    "timeseries_dtype = np.dtype([\n",
    "    ('date', 'datetime64[M]'),\n",
    "    ('relpop', float)\n",
    "])\n",
    "\n",
    "parse_kwargs = {\n",
    "    \"skiprows\" : 3,\n",
    "    \"delimiter\" : \",\",\n",
    "    \"dtype\" : timeseries_dtype\n",
    "}\n",
    "\n",
    "gtrends_search_terms = (\"numpy\", \"datascience\", \"matlab\")\n",
    "\n",
    "data = {\n",
    "    fname : np.loadtxt(\"data/{}.csv\".format(fname), **parse_kwargs) for fname in gtrends_search_terms\n",
    "}\n",
    "\n",
    "def smooth(s, kernsize=21):\n",
    "    s_padded = np.r_[s[kernsize-1:0:-1], s, s[-2:-kernsize-1:-1]]\n",
    "    kern = np.hamming(kernsize)\n",
    "    res_padded = np.convolve(kern/kern.sum(), s_padded, mode='valid')\n",
    "    return res_padded[kernsize//2:-kernsize//2+1]\n",
    "\n",
    "s = smooth(data['numpy']['relpop'])\n",
    "print(s.shape)\n",
    "\n",
    "fig, ax = plt.subplots()\n",
    "for name, vals in data.items():\n",
    "    plt.plot(vals['date'], smooth(vals['relpop']), label=name)\n",
    "ax.set_title('Google Trends (US): 2004 - Present')\n",
    "ax.legend();"
   ]
  },
  {
   "cell_type": "markdown",
   "metadata": {},
   "source": [
    "# How is NumPy Developed\n",
    "\n",
    " - Collaboratively (caveat here about the bus factor)\n",
    "\n",
    "Commitment to stability means proposed changes must go through extensive design and review:\n",
    " - NEPs - analogous to PEPs, specific to NumPy"
   ]
  },
  {
   "cell_type": "markdown",
   "metadata": {},
   "source": [
    "# Case-Study: `np.random`\n",
    "\n",
    " - Overhauled in v1.17\n",
    "   * Improve *performance* and *flexibility* without sacrificing stability"
   ]
  },
  {
   "cell_type": "code",
   "execution_count": 13,
   "metadata": {},
   "outputs": [],
   "source": [
    "# comparison of random here | include timeit examples | parallel example too?"
   ]
  },
  {
   "cell_type": "markdown",
   "metadata": {},
   "source": [
    "# What's next?\n",
    "\n",
    " - Borrow heavily from [Ralf's talk](https://www.slideshare.net/RalfGommers/pydata-nyc-whatsnew-numpyscipy-2019)"
   ]
  },
  {
   "cell_type": "markdown",
   "metadata": {},
   "source": [
    "# Getting involved\n",
    "\n",
    " - bus factor: an issue\n",
    " \n",
    "Great opportunity to work on a project that is depended on by tens of millions of users (and counting)\n",
    "\n",
    "What can you do:\n",
    "\n",
    " 1. Contribute\n",
    " \n",
    "   - [GitHub Issues](https://github.com/numpy/numpy/issues) and [open PRs](https://github.com/numpy/numpy/pulls) are a great entry point\n",
    "     * If you want to get your hands dirty immediately, try starting with the [good first issue](https://github.com/numpy/numpy/issues?q=is%3Aopen+is%3Aissue+label%3A%22good+first+issue%22) label\n",
    "     * For challenges with a greater scope, try the [Enhancement](https://github.com/numpy/numpy/labels/01%20-%20Enhancement) or [Wish List](https://github.com/numpy/numpy/labels/23%20-%20Wish%20List) labels\n",
    "   - Check out the discussion revolving around current and future [NEPs](https://numpy.org/neps/)\n",
    "   \n",
    " 2. Participate in the conversation\n",
    " \n",
    "  - [Numpy discussion mailing list](https://www.scipy.org/scipylib/mailing-lists.html)\n",
    "  - Numpy community meetings (links and cadence here)\n",
    "  - slack channel"
   ]
  },
  {
   "cell_type": "code",
   "execution_count": null,
   "metadata": {},
   "outputs": [],
   "source": []
  }
 ],
 "metadata": {
  "kernelspec": {
   "display_name": "Python 3",
   "language": "python",
   "name": "python3"
  },
  "language_info": {
   "codemirror_mode": {
    "name": "ipython",
    "version": 3
   },
   "file_extension": ".py",
   "mimetype": "text/x-python",
   "name": "python",
   "nbconvert_exporter": "python",
   "pygments_lexer": "ipython3",
   "version": "3.8.1"
  }
 },
 "nbformat": 4,
 "nbformat_minor": 2
}
